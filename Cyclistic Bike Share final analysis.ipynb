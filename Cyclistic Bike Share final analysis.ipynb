{
 "cells": [
  {
   "cell_type": "markdown",
   "id": "d052e3a5",
   "metadata": {},
   "source": [
    "# CYCLISTIC BIKE SHARE COMPANY ANALYSIS\n",
    "The case study is the capstone project of Google Data Analytics Proefssional Certificate course. Here I am working as a junior data analyst for Cyclistic Bike Share Company in Chicago. The director of marketing team believes the company’s future success depends on maximizing the number of annual memberships.\n",
    "## Major Task \n",
    "Converting casual riders into annual members\n",
    "## Questions\n",
    "- How do members and casual riders differ in bike rides?\n",
    "- Why will casual riders take to memberships?\n",
    "- What strategies to use to convert casual riders into members?"
   ]
  },
  {
   "cell_type": "code",
   "execution_count": 2,
   "id": "66cdded8",
   "metadata": {},
   "outputs": [],
   "source": [
    "# Importing the relevant libraries\n",
    "import numpy as np\n",
    "import pandas as pd\n",
    "import matplotlib.pyplot as plt\n",
    "%matplotlib inline\n",
    "import seaborn as sns"
   ]
  },
  {
   "cell_type": "code",
   "execution_count": 3,
   "id": "44a421eb",
   "metadata": {},
   "outputs": [],
   "source": [
    "# importing all the datasets of every month\n",
    "jan_2021 = pd.read_csv('C:/Users/New/Downloads/Compressed/cycle share data/202101-divvy-tripdata.csv')\n",
    "feb_2021 = pd.read_csv('C:/Users/New/Downloads/Compressed/cycle share data/202102-divvy-tripdata.csv')\n",
    "mar_2021 = pd.read_csv('C:/Users/New/Downloads/Compressed/cycle share data/202103-divvy-tripdata.csv')\n",
    "apr_2021 = pd.read_csv('C:/Users/New/Downloads/Compressed/cycle share data/202104-divvy-tripdata.csv')\n",
    "may_2021 = pd.read_csv('C:/Users/New/Downloads/Compressed/cycle share data/202105-divvy-tripdata.csv')\n",
    "june_2021 = pd.read_csv('C:/Users/New/Downloads/Compressed/cycle share data/202106-divvy-tripdata.csv')\n",
    "july_2021 = pd.read_csv('C:/Users/New/Downloads/Compressed/cycle share data/202107-divvy-tripdata.csv')\n",
    "aug_2021 = pd.read_csv('C:/Users/New/Downloads/Compressed/cycle share data/202108-divvy-tripdata.csv')\n",
    "sep_2021 = pd.read_csv('C:/Users/New/Downloads/Compressed/cycle share data/202109-divvy-tripdata.csv')\n",
    "oct_2021 = pd.read_csv('C:/Users/New/Downloads/Compressed/cycle share data/202110-divvy-tripdata.csv')\n",
    "nov_2021 = pd.read_csv('C:/Users/New/Downloads/Compressed/cycle share data/202111-divvy-tripdata.csv')\n",
    "dec_2021 = pd.read_csv('C:/Users/New/Downloads/Compressed/cycle share data/202112-divvy-tripdata.csv')\n"
   ]
  },
  {
   "cell_type": "code",
   "execution_count": 4,
   "id": "2eb0d7b8",
   "metadata": {},
   "outputs": [],
   "source": [
    "# merging all datasets into one and naming it as 'data'\n",
    "data = pd.concat([jan_2021,feb_2021,mar_2021,apr_2021,may_2021,june_2021,july_2021,aug_2021,sep_2021,oct_2021,nov_2021,dec_2021])"
   ]
  },
  {
   "cell_type": "code",
   "execution_count": 5,
   "id": "a9205924",
   "metadata": {},
   "outputs": [
    {
     "data": {
      "text/html": [
       "<div>\n",
       "<style scoped>\n",
       "    .dataframe tbody tr th:only-of-type {\n",
       "        vertical-align: middle;\n",
       "    }\n",
       "\n",
       "    .dataframe tbody tr th {\n",
       "        vertical-align: top;\n",
       "    }\n",
       "\n",
       "    .dataframe thead th {\n",
       "        text-align: right;\n",
       "    }\n",
       "</style>\n",
       "<table border=\"1\" class=\"dataframe\">\n",
       "  <thead>\n",
       "    <tr style=\"text-align: right;\">\n",
       "      <th></th>\n",
       "      <th>ride_id</th>\n",
       "      <th>rideable_type</th>\n",
       "      <th>started_at</th>\n",
       "      <th>ended_at</th>\n",
       "      <th>start_station_name</th>\n",
       "      <th>start_station_id</th>\n",
       "      <th>end_station_name</th>\n",
       "      <th>end_station_id</th>\n",
       "      <th>start_lat</th>\n",
       "      <th>start_lng</th>\n",
       "      <th>end_lat</th>\n",
       "      <th>end_lng</th>\n",
       "      <th>member_casual</th>\n",
       "    </tr>\n",
       "  </thead>\n",
       "  <tbody>\n",
       "    <tr>\n",
       "      <th>0</th>\n",
       "      <td>E19E6F1B8D4C42ED</td>\n",
       "      <td>electric_bike</td>\n",
       "      <td>2021-01-23 16:14:19</td>\n",
       "      <td>2021-01-23 16:24:44</td>\n",
       "      <td>California Ave &amp; Cortez St</td>\n",
       "      <td>17660</td>\n",
       "      <td>NaN</td>\n",
       "      <td>NaN</td>\n",
       "      <td>41.900341</td>\n",
       "      <td>-87.696743</td>\n",
       "      <td>41.89</td>\n",
       "      <td>-87.72</td>\n",
       "      <td>member</td>\n",
       "    </tr>\n",
       "    <tr>\n",
       "      <th>1</th>\n",
       "      <td>DC88F20C2C55F27F</td>\n",
       "      <td>electric_bike</td>\n",
       "      <td>2021-01-27 18:43:08</td>\n",
       "      <td>2021-01-27 18:47:12</td>\n",
       "      <td>California Ave &amp; Cortez St</td>\n",
       "      <td>17660</td>\n",
       "      <td>NaN</td>\n",
       "      <td>NaN</td>\n",
       "      <td>41.900333</td>\n",
       "      <td>-87.696707</td>\n",
       "      <td>41.90</td>\n",
       "      <td>-87.69</td>\n",
       "      <td>member</td>\n",
       "    </tr>\n",
       "    <tr>\n",
       "      <th>2</th>\n",
       "      <td>EC45C94683FE3F27</td>\n",
       "      <td>electric_bike</td>\n",
       "      <td>2021-01-21 22:35:54</td>\n",
       "      <td>2021-01-21 22:37:14</td>\n",
       "      <td>California Ave &amp; Cortez St</td>\n",
       "      <td>17660</td>\n",
       "      <td>NaN</td>\n",
       "      <td>NaN</td>\n",
       "      <td>41.900313</td>\n",
       "      <td>-87.696643</td>\n",
       "      <td>41.90</td>\n",
       "      <td>-87.70</td>\n",
       "      <td>member</td>\n",
       "    </tr>\n",
       "    <tr>\n",
       "      <th>3</th>\n",
       "      <td>4FA453A75AE377DB</td>\n",
       "      <td>electric_bike</td>\n",
       "      <td>2021-01-07 13:31:13</td>\n",
       "      <td>2021-01-07 13:42:55</td>\n",
       "      <td>California Ave &amp; Cortez St</td>\n",
       "      <td>17660</td>\n",
       "      <td>NaN</td>\n",
       "      <td>NaN</td>\n",
       "      <td>41.900399</td>\n",
       "      <td>-87.696662</td>\n",
       "      <td>41.92</td>\n",
       "      <td>-87.69</td>\n",
       "      <td>member</td>\n",
       "    </tr>\n",
       "    <tr>\n",
       "      <th>4</th>\n",
       "      <td>BE5E8EB4E7263A0B</td>\n",
       "      <td>electric_bike</td>\n",
       "      <td>2021-01-23 02:24:02</td>\n",
       "      <td>2021-01-23 02:24:45</td>\n",
       "      <td>California Ave &amp; Cortez St</td>\n",
       "      <td>17660</td>\n",
       "      <td>NaN</td>\n",
       "      <td>NaN</td>\n",
       "      <td>41.900326</td>\n",
       "      <td>-87.696697</td>\n",
       "      <td>41.90</td>\n",
       "      <td>-87.70</td>\n",
       "      <td>casual</td>\n",
       "    </tr>\n",
       "  </tbody>\n",
       "</table>\n",
       "</div>"
      ],
      "text/plain": [
       "            ride_id  rideable_type           started_at             ended_at  \\\n",
       "0  E19E6F1B8D4C42ED  electric_bike  2021-01-23 16:14:19  2021-01-23 16:24:44   \n",
       "1  DC88F20C2C55F27F  electric_bike  2021-01-27 18:43:08  2021-01-27 18:47:12   \n",
       "2  EC45C94683FE3F27  electric_bike  2021-01-21 22:35:54  2021-01-21 22:37:14   \n",
       "3  4FA453A75AE377DB  electric_bike  2021-01-07 13:31:13  2021-01-07 13:42:55   \n",
       "4  BE5E8EB4E7263A0B  electric_bike  2021-01-23 02:24:02  2021-01-23 02:24:45   \n",
       "\n",
       "           start_station_name start_station_id end_station_name  \\\n",
       "0  California Ave & Cortez St            17660              NaN   \n",
       "1  California Ave & Cortez St            17660              NaN   \n",
       "2  California Ave & Cortez St            17660              NaN   \n",
       "3  California Ave & Cortez St            17660              NaN   \n",
       "4  California Ave & Cortez St            17660              NaN   \n",
       "\n",
       "  end_station_id  start_lat  start_lng  end_lat  end_lng member_casual  \n",
       "0            NaN  41.900341 -87.696743    41.89   -87.72        member  \n",
       "1            NaN  41.900333 -87.696707    41.90   -87.69        member  \n",
       "2            NaN  41.900313 -87.696643    41.90   -87.70        member  \n",
       "3            NaN  41.900399 -87.696662    41.92   -87.69        member  \n",
       "4            NaN  41.900326 -87.696697    41.90   -87.70        casual  "
      ]
     },
     "execution_count": 5,
     "metadata": {},
     "output_type": "execute_result"
    }
   ],
   "source": [
    "# top 5 rows of dataframe 'data'\n",
    "data.head()"
   ]
  },
  {
   "cell_type": "code",
   "execution_count": 6,
   "id": "89bc905c",
   "metadata": {},
   "outputs": [
    {
     "data": {
      "text/plain": [
       "(5595063, 13)"
      ]
     },
     "execution_count": 6,
     "metadata": {},
     "output_type": "execute_result"
    }
   ],
   "source": [
    "data.shape"
   ]
  },
  {
   "cell_type": "code",
   "execution_count": 7,
   "id": "911e6c33",
   "metadata": {},
   "outputs": [
    {
     "name": "stdout",
     "output_type": "stream",
     "text": [
      "<class 'pandas.core.frame.DataFrame'>\n",
      "Int64Index: 5595063 entries, 0 to 247539\n",
      "Data columns (total 13 columns):\n",
      " #   Column              Dtype  \n",
      "---  ------              -----  \n",
      " 0   ride_id             object \n",
      " 1   rideable_type       object \n",
      " 2   started_at          object \n",
      " 3   ended_at            object \n",
      " 4   start_station_name  object \n",
      " 5   start_station_id    object \n",
      " 6   end_station_name    object \n",
      " 7   end_station_id      object \n",
      " 8   start_lat           float64\n",
      " 9   start_lng           float64\n",
      " 10  end_lat             float64\n",
      " 11  end_lng             float64\n",
      " 12  member_casual       object \n",
      "dtypes: float64(4), object(9)\n",
      "memory usage: 597.6+ MB\n"
     ]
    }
   ],
   "source": [
    "data.info()"
   ]
  },
  {
   "cell_type": "code",
   "execution_count": 8,
   "id": "3d93db31",
   "metadata": {},
   "outputs": [
    {
     "name": "stdout",
     "output_type": "stream",
     "text": [
      "<class 'pandas.core.frame.DataFrame'>\n",
      "Int64Index: 5595063 entries, 0 to 247539\n",
      "Data columns (total 13 columns):\n",
      " #   Column              Dtype         \n",
      "---  ------              -----         \n",
      " 0   ride_id             object        \n",
      " 1   rideable_type       category      \n",
      " 2   started_at          datetime64[ns]\n",
      " 3   ended_at            datetime64[ns]\n",
      " 4   start_station_name  object        \n",
      " 5   start_station_id    object        \n",
      " 6   end_station_name    object        \n",
      " 7   end_station_id      object        \n",
      " 8   start_lat           float64       \n",
      " 9   start_lng           float64       \n",
      " 10  end_lat             float64       \n",
      " 11  end_lng             float64       \n",
      " 12  member_casual       category      \n",
      "dtypes: category(2), datetime64[ns](2), float64(4), object(5)\n",
      "memory usage: 522.9+ MB\n"
     ]
    }
   ],
   "source": [
    "# changing datatype of relevant columns in one go\n",
    "data = data.astype({'rideable_type':'category', 'member_casual': 'category', 'started_at':'datetime64', 'ended_at':'datetime64'})\n",
    "data.info()"
   ]
  },
  {
   "cell_type": "code",
   "execution_count": 9,
   "id": "3fc399eb",
   "metadata": {},
   "outputs": [
    {
     "data": {
      "text/plain": [
       "0        0 days 00:10:25\n",
       "1        0 days 00:04:04\n",
       "2        0 days 00:01:20\n",
       "3        0 days 00:11:42\n",
       "4        0 days 00:00:43\n",
       "               ...      \n",
       "247535   0 days 00:19:13\n",
       "247536   0 days 00:07:01\n",
       "247537   0 days 00:08:17\n",
       "247538   0 days 00:14:13\n",
       "247539   0 days 00:03:37\n",
       "Name: trip_duration, Length: 5595063, dtype: timedelta64[ns]"
      ]
     },
     "execution_count": 9,
     "metadata": {},
     "output_type": "execute_result"
    }
   ],
   "source": [
    "# adding a new column 'trip duration' calculated as time difference between endtime and starttime\n",
    "data['trip_duration'] = data['ended_at'] - data['started_at']\n",
    "data['trip_duration'] "
   ]
  },
  {
   "cell_type": "code",
   "execution_count": 10,
   "id": "42da32fa",
   "metadata": {
    "scrolled": true
   },
   "outputs": [
    {
     "name": "stdout",
     "output_type": "stream",
     "text": [
      "<class 'pandas.core.frame.DataFrame'>\n",
      "Int64Index: 5595063 entries, 0 to 247539\n",
      "Data columns (total 14 columns):\n",
      " #   Column              Dtype          \n",
      "---  ------              -----          \n",
      " 0   ride_id             object         \n",
      " 1   rideable_type       category       \n",
      " 2   started_at          datetime64[ns] \n",
      " 3   ended_at            datetime64[ns] \n",
      " 4   start_station_name  object         \n",
      " 5   start_station_id    object         \n",
      " 6   end_station_name    object         \n",
      " 7   end_station_id      object         \n",
      " 8   start_lat           float64        \n",
      " 9   start_lng           float64        \n",
      " 10  end_lat             float64        \n",
      " 11  end_lng             float64        \n",
      " 12  member_casual       category       \n",
      " 13  trip_duration       timedelta64[ns]\n",
      "dtypes: category(2), datetime64[ns](2), float64(4), object(5), timedelta64[ns](1)\n",
      "memory usage: 565.6+ MB\n"
     ]
    }
   ],
   "source": [
    "data.info()"
   ]
  },
  {
   "cell_type": "code",
   "execution_count": 11,
   "id": "adbfe914",
   "metadata": {},
   "outputs": [
    {
     "data": {
      "text/plain": [
       "0         2021-01-23\n",
       "1         2021-01-27\n",
       "2         2021-01-21\n",
       "3         2021-01-07\n",
       "4         2021-01-23\n",
       "             ...    \n",
       "247535    2021-12-12\n",
       "247536    2021-12-06\n",
       "247537    2021-12-02\n",
       "247538    2021-12-13\n",
       "247539    2021-12-13\n",
       "Name: date, Length: 5595063, dtype: object"
      ]
     },
     "execution_count": 11,
     "metadata": {},
     "output_type": "execute_result"
    }
   ],
   "source": [
    "# extracting date from 'started_at' column\n",
    "data['date'] = data['started_at'].dt.date\n",
    "data['date'] "
   ]
  },
  {
   "cell_type": "code",
   "execution_count": 12,
   "id": "3a6e520e",
   "metadata": {},
   "outputs": [
    {
     "data": {
      "text/plain": [
       "0        2021-01-23\n",
       "1        2021-01-27\n",
       "2        2021-01-21\n",
       "3        2021-01-07\n",
       "4        2021-01-23\n",
       "            ...    \n",
       "247535   2021-12-12\n",
       "247536   2021-12-06\n",
       "247537   2021-12-02\n",
       "247538   2021-12-13\n",
       "247539   2021-12-13\n",
       "Name: date, Length: 5595063, dtype: datetime64[ns]"
      ]
     },
     "execution_count": 12,
     "metadata": {},
     "output_type": "execute_result"
    }
   ],
   "source": [
    "# changing the datatype of 'date' from object to datetime64\n",
    "data['date'] = pd.to_datetime(data.date)\n",
    "data.date"
   ]
  },
  {
   "cell_type": "code",
   "execution_count": 13,
   "id": "40d2766b",
   "metadata": {},
   "outputs": [],
   "source": [
    "# extracting year from 'date' column and adding a new column named 'year'\n",
    "data['year'] = pd.DatetimeIndex(data['date']).year"
   ]
  },
  {
   "cell_type": "code",
   "execution_count": 14,
   "id": "b61b10d4",
   "metadata": {},
   "outputs": [
    {
     "data": {
      "text/plain": [
       "0          January\n",
       "1          January\n",
       "2          January\n",
       "3          January\n",
       "4          January\n",
       "            ...   \n",
       "247535    December\n",
       "247536    December\n",
       "247537    December\n",
       "247538    December\n",
       "247539    December\n",
       "Name: month, Length: 5595063, dtype: object"
      ]
     },
     "execution_count": 14,
     "metadata": {},
     "output_type": "execute_result"
    }
   ],
   "source": [
    "# extracting month name from date column and naming new column as month\n",
    "data['month'] = data.started_at.dt.month_name()\n",
    "data['month']"
   ]
  },
  {
   "cell_type": "code",
   "execution_count": 15,
   "id": "a6a8c1c8",
   "metadata": {},
   "outputs": [
    {
     "name": "stdout",
     "output_type": "stream",
     "text": [
      "<class 'pandas.core.frame.DataFrame'>\n",
      "Int64Index: 5595063 entries, 0 to 247539\n",
      "Data columns (total 17 columns):\n",
      " #   Column              Dtype          \n",
      "---  ------              -----          \n",
      " 0   ride_id             object         \n",
      " 1   rideable_type       category       \n",
      " 2   started_at          datetime64[ns] \n",
      " 3   ended_at            datetime64[ns] \n",
      " 4   start_station_name  object         \n",
      " 5   start_station_id    object         \n",
      " 6   end_station_name    object         \n",
      " 7   end_station_id      object         \n",
      " 8   start_lat           float64        \n",
      " 9   start_lng           float64        \n",
      " 10  end_lat             float64        \n",
      " 11  end_lng             float64        \n",
      " 12  member_casual       category       \n",
      " 13  trip_duration       timedelta64[ns]\n",
      " 14  date                datetime64[ns] \n",
      " 15  year                int64          \n",
      " 16  month               object         \n",
      "dtypes: category(2), datetime64[ns](3), float64(4), int64(1), object(6), timedelta64[ns](1)\n",
      "memory usage: 693.7+ MB\n"
     ]
    }
   ],
   "source": [
    "data.info()"
   ]
  },
  {
   "cell_type": "code",
   "execution_count": 16,
   "id": "ef037434",
   "metadata": {},
   "outputs": [
    {
     "data": {
      "text/plain": [
       "array(['Saturday', 'Wednesday', 'Thursday', 'Monday', 'Sunday', 'Friday',\n",
       "       'Tuesday'], dtype=object)"
      ]
     },
     "execution_count": 16,
     "metadata": {},
     "output_type": "execute_result"
    }
   ],
   "source": [
    "# extracting dayname from date column and adding new column as 'day_name'; identifying unique values in day_name column\n",
    "data['day_name'] = data['date'].dt.day_name()\n",
    "data['day_name'].unique()"
   ]
  },
  {
   "cell_type": "code",
   "execution_count": 17,
   "id": "9913eaf1",
   "metadata": {},
   "outputs": [
    {
     "name": "stdout",
     "output_type": "stream",
     "text": [
      "<class 'pandas.core.frame.DataFrame'>\n",
      "Int64Index: 5595063 entries, 0 to 247539\n",
      "Data columns (total 18 columns):\n",
      " #   Column              Dtype          \n",
      "---  ------              -----          \n",
      " 0   ride_id             object         \n",
      " 1   rideable_type       category       \n",
      " 2   started_at          datetime64[ns] \n",
      " 3   ended_at            datetime64[ns] \n",
      " 4   start_station_name  object         \n",
      " 5   start_station_id    object         \n",
      " 6   end_station_name    object         \n",
      " 7   end_station_id      object         \n",
      " 8   start_lat           float64        \n",
      " 9   start_lng           float64        \n",
      " 10  end_lat             float64        \n",
      " 11  end_lng             float64        \n",
      " 12  member_casual       category       \n",
      " 13  trip_duration       timedelta64[ns]\n",
      " 14  date                datetime64[ns] \n",
      " 15  year                int64          \n",
      " 16  month               object         \n",
      " 17  day_name            object         \n",
      "dtypes: category(2), datetime64[ns](3), float64(4), int64(1), object(7), timedelta64[ns](1)\n",
      "memory usage: 736.4+ MB\n"
     ]
    }
   ],
   "source": [
    "data.info()"
   ]
  },
  {
   "cell_type": "code",
   "execution_count": 18,
   "id": "4207a471",
   "metadata": {},
   "outputs": [],
   "source": [
    "# changing datatype of month from object to category; ordered=False as these are not in an order\n",
    "cat_month = ['January', 'February', 'March', 'April', 'May', 'June', 'July', 'August', 'September', 'October', 'November', 'December']\n",
    "data['month'] = pd.Categorical(data.month, categories = cat_month, ordered=False)\n"
   ]
  },
  {
   "cell_type": "code",
   "execution_count": 19,
   "id": "d9664a8e",
   "metadata": {},
   "outputs": [
    {
     "data": {
      "text/plain": [
       "0          January\n",
       "1          January\n",
       "2          January\n",
       "3          January\n",
       "4          January\n",
       "            ...   \n",
       "247535    December\n",
       "247536    December\n",
       "247537    December\n",
       "247538    December\n",
       "247539    December\n",
       "Name: month, Length: 5595063, dtype: category\n",
       "Categories (12, object): ['January', 'February', 'March', 'April', ..., 'September', 'October', 'November', 'December']"
      ]
     },
     "execution_count": 19,
     "metadata": {},
     "output_type": "execute_result"
    }
   ],
   "source": [
    "data.month"
   ]
  },
  {
   "cell_type": "code",
   "execution_count": 20,
   "id": "0b5e75b7",
   "metadata": {},
   "outputs": [
    {
     "name": "stdout",
     "output_type": "stream",
     "text": [
      "<class 'pandas.core.frame.DataFrame'>\n",
      "Int64Index: 5595063 entries, 0 to 247539\n",
      "Data columns (total 18 columns):\n",
      " #   Column              Dtype          \n",
      "---  ------              -----          \n",
      " 0   ride_id             object         \n",
      " 1   rideable_type       category       \n",
      " 2   started_at          datetime64[ns] \n",
      " 3   ended_at            datetime64[ns] \n",
      " 4   start_station_name  object         \n",
      " 5   start_station_id    object         \n",
      " 6   end_station_name    object         \n",
      " 7   end_station_id      object         \n",
      " 8   start_lat           float64        \n",
      " 9   start_lng           float64        \n",
      " 10  end_lat             float64        \n",
      " 11  end_lng             float64        \n",
      " 12  member_casual       category       \n",
      " 13  trip_duration       timedelta64[ns]\n",
      " 14  date                datetime64[ns] \n",
      " 15  year                int64          \n",
      " 16  month               category       \n",
      " 17  day_name            object         \n",
      "dtypes: category(3), datetime64[ns](3), float64(4), int64(1), object(6), timedelta64[ns](1)\n",
      "memory usage: 699.0+ MB\n"
     ]
    }
   ],
   "source": [
    "data.info()"
   ]
  },
  {
   "cell_type": "code",
   "execution_count": 21,
   "id": "747a5ef9",
   "metadata": {},
   "outputs": [
    {
     "data": {
      "text/plain": [
       "0          Saturday\n",
       "1         Wednesday\n",
       "2          Thursday\n",
       "3          Thursday\n",
       "4          Saturday\n",
       "            ...    \n",
       "247535       Sunday\n",
       "247536       Monday\n",
       "247537     Thursday\n",
       "247538       Monday\n",
       "247539       Monday\n",
       "Name: day_name, Length: 5595063, dtype: category\n",
       "Categories (7, object): ['Monday', 'Tuesday', 'Wednesday', 'Thursday', 'Friday', 'Saturday', 'Sunday']"
      ]
     },
     "execution_count": 21,
     "metadata": {},
     "output_type": "execute_result"
    }
   ],
   "source": [
    "# changing datatype of day_name from object to category; ordered=False as these are not in an order\n",
    "cat_day = ['Monday', 'Tuesday', 'Wednesday', 'Thursday', 'Friday', 'Saturday', 'Sunday']\n",
    "data['day_name'] = pd.Categorical(data.day_name, categories = cat_day, ordered = False)\n",
    "data['day_name']"
   ]
  },
  {
   "cell_type": "code",
   "execution_count": 22,
   "id": "10a62a62",
   "metadata": {},
   "outputs": [
    {
     "name": "stdout",
     "output_type": "stream",
     "text": [
      "<class 'pandas.core.frame.DataFrame'>\n",
      "Int64Index: 5595063 entries, 0 to 247539\n",
      "Data columns (total 18 columns):\n",
      " #   Column              Dtype          \n",
      "---  ------              -----          \n",
      " 0   ride_id             object         \n",
      " 1   rideable_type       category       \n",
      " 2   started_at          datetime64[ns] \n",
      " 3   ended_at            datetime64[ns] \n",
      " 4   start_station_name  object         \n",
      " 5   start_station_id    object         \n",
      " 6   end_station_name    object         \n",
      " 7   end_station_id      object         \n",
      " 8   start_lat           float64        \n",
      " 9   start_lng           float64        \n",
      " 10  end_lat             float64        \n",
      " 11  end_lng             float64        \n",
      " 12  member_casual       category       \n",
      " 13  trip_duration       timedelta64[ns]\n",
      " 14  date                datetime64[ns] \n",
      " 15  year                int64          \n",
      " 16  month               category       \n",
      " 17  day_name            category       \n",
      "dtypes: category(4), datetime64[ns](3), float64(4), int64(1), object(5), timedelta64[ns](1)\n",
      "memory usage: 661.6+ MB\n"
     ]
    }
   ],
   "source": [
    "data.info()"
   ]
  },
  {
   "cell_type": "code",
   "execution_count": 23,
   "id": "fa793752",
   "metadata": {},
   "outputs": [
    {
     "data": {
      "text/plain": [
       "0         16\n",
       "1         18\n",
       "2         22\n",
       "3         13\n",
       "4          2\n",
       "          ..\n",
       "247535    13\n",
       "247536    19\n",
       "247537     8\n",
       "247538     9\n",
       "247539     8\n",
       "Name: hour, Length: 5595063, dtype: int64"
      ]
     },
     "execution_count": 23,
     "metadata": {},
     "output_type": "execute_result"
    }
   ],
   "source": [
    "# extracting hour from started_at column and naming it as 'hour' column\n",
    "data['hour'] = data['started_at'].dt.hour\n",
    "data.hour"
   ]
  },
  {
   "cell_type": "code",
   "execution_count": 24,
   "id": "2d2c7442",
   "metadata": {},
   "outputs": [
    {
     "name": "stdout",
     "output_type": "stream",
     "text": [
      "<class 'pandas.core.frame.DataFrame'>\n",
      "Int64Index: 5595063 entries, 0 to 247539\n",
      "Data columns (total 19 columns):\n",
      " #   Column              Dtype          \n",
      "---  ------              -----          \n",
      " 0   ride_id             object         \n",
      " 1   rideable_type       category       \n",
      " 2   started_at          datetime64[ns] \n",
      " 3   ended_at            datetime64[ns] \n",
      " 4   start_station_name  object         \n",
      " 5   start_station_id    object         \n",
      " 6   end_station_name    object         \n",
      " 7   end_station_id      object         \n",
      " 8   start_lat           float64        \n",
      " 9   start_lng           float64        \n",
      " 10  end_lat             float64        \n",
      " 11  end_lng             float64        \n",
      " 12  member_casual       category       \n",
      " 13  trip_duration       timedelta64[ns]\n",
      " 14  date                datetime64[ns] \n",
      " 15  year                int64          \n",
      " 16  month               category       \n",
      " 17  day_name            category       \n",
      " 18  hour                int64          \n",
      "dtypes: category(4), datetime64[ns](3), float64(4), int64(2), object(5), timedelta64[ns](1)\n",
      "memory usage: 704.3+ MB\n"
     ]
    }
   ],
   "source": [
    "data.info()"
   ]
  },
  {
   "cell_type": "code",
   "execution_count": 25,
   "id": "a5326748",
   "metadata": {},
   "outputs": [
    {
     "data": {
      "text/html": [
       "<div>\n",
       "<style scoped>\n",
       "    .dataframe tbody tr th:only-of-type {\n",
       "        vertical-align: middle;\n",
       "    }\n",
       "\n",
       "    .dataframe tbody tr th {\n",
       "        vertical-align: top;\n",
       "    }\n",
       "\n",
       "    .dataframe thead th {\n",
       "        text-align: right;\n",
       "    }\n",
       "</style>\n",
       "<table border=\"1\" class=\"dataframe\">\n",
       "  <thead>\n",
       "    <tr style=\"text-align: right;\">\n",
       "      <th></th>\n",
       "      <th>ride_id</th>\n",
       "      <th>rideable_type</th>\n",
       "      <th>started_at</th>\n",
       "      <th>ended_at</th>\n",
       "      <th>start_station_name</th>\n",
       "      <th>start_station_id</th>\n",
       "      <th>end_station_name</th>\n",
       "      <th>end_station_id</th>\n",
       "      <th>start_lat</th>\n",
       "      <th>start_lng</th>\n",
       "      <th>end_lat</th>\n",
       "      <th>end_lng</th>\n",
       "      <th>member_casual</th>\n",
       "      <th>trip_duration</th>\n",
       "      <th>date</th>\n",
       "      <th>year</th>\n",
       "      <th>month</th>\n",
       "      <th>day_name</th>\n",
       "      <th>hour</th>\n",
       "    </tr>\n",
       "  </thead>\n",
       "  <tbody>\n",
       "    <tr>\n",
       "      <th>0</th>\n",
       "      <td>E19E6F1B8D4C42ED</td>\n",
       "      <td>electric_bike</td>\n",
       "      <td>2021-01-23 16:14:19</td>\n",
       "      <td>2021-01-23 16:24:44</td>\n",
       "      <td>California Ave &amp; Cortez St</td>\n",
       "      <td>17660</td>\n",
       "      <td>NaN</td>\n",
       "      <td>NaN</td>\n",
       "      <td>41.900341</td>\n",
       "      <td>-87.696743</td>\n",
       "      <td>41.89</td>\n",
       "      <td>-87.72</td>\n",
       "      <td>member</td>\n",
       "      <td>0 days 00:10:25</td>\n",
       "      <td>2021-01-23</td>\n",
       "      <td>2021</td>\n",
       "      <td>January</td>\n",
       "      <td>Saturday</td>\n",
       "      <td>16</td>\n",
       "    </tr>\n",
       "    <tr>\n",
       "      <th>1</th>\n",
       "      <td>DC88F20C2C55F27F</td>\n",
       "      <td>electric_bike</td>\n",
       "      <td>2021-01-27 18:43:08</td>\n",
       "      <td>2021-01-27 18:47:12</td>\n",
       "      <td>California Ave &amp; Cortez St</td>\n",
       "      <td>17660</td>\n",
       "      <td>NaN</td>\n",
       "      <td>NaN</td>\n",
       "      <td>41.900333</td>\n",
       "      <td>-87.696707</td>\n",
       "      <td>41.90</td>\n",
       "      <td>-87.69</td>\n",
       "      <td>member</td>\n",
       "      <td>0 days 00:04:04</td>\n",
       "      <td>2021-01-27</td>\n",
       "      <td>2021</td>\n",
       "      <td>January</td>\n",
       "      <td>Wednesday</td>\n",
       "      <td>18</td>\n",
       "    </tr>\n",
       "    <tr>\n",
       "      <th>2</th>\n",
       "      <td>EC45C94683FE3F27</td>\n",
       "      <td>electric_bike</td>\n",
       "      <td>2021-01-21 22:35:54</td>\n",
       "      <td>2021-01-21 22:37:14</td>\n",
       "      <td>California Ave &amp; Cortez St</td>\n",
       "      <td>17660</td>\n",
       "      <td>NaN</td>\n",
       "      <td>NaN</td>\n",
       "      <td>41.900313</td>\n",
       "      <td>-87.696643</td>\n",
       "      <td>41.90</td>\n",
       "      <td>-87.70</td>\n",
       "      <td>member</td>\n",
       "      <td>0 days 00:01:20</td>\n",
       "      <td>2021-01-21</td>\n",
       "      <td>2021</td>\n",
       "      <td>January</td>\n",
       "      <td>Thursday</td>\n",
       "      <td>22</td>\n",
       "    </tr>\n",
       "    <tr>\n",
       "      <th>3</th>\n",
       "      <td>4FA453A75AE377DB</td>\n",
       "      <td>electric_bike</td>\n",
       "      <td>2021-01-07 13:31:13</td>\n",
       "      <td>2021-01-07 13:42:55</td>\n",
       "      <td>California Ave &amp; Cortez St</td>\n",
       "      <td>17660</td>\n",
       "      <td>NaN</td>\n",
       "      <td>NaN</td>\n",
       "      <td>41.900399</td>\n",
       "      <td>-87.696662</td>\n",
       "      <td>41.92</td>\n",
       "      <td>-87.69</td>\n",
       "      <td>member</td>\n",
       "      <td>0 days 00:11:42</td>\n",
       "      <td>2021-01-07</td>\n",
       "      <td>2021</td>\n",
       "      <td>January</td>\n",
       "      <td>Thursday</td>\n",
       "      <td>13</td>\n",
       "    </tr>\n",
       "    <tr>\n",
       "      <th>4</th>\n",
       "      <td>BE5E8EB4E7263A0B</td>\n",
       "      <td>electric_bike</td>\n",
       "      <td>2021-01-23 02:24:02</td>\n",
       "      <td>2021-01-23 02:24:45</td>\n",
       "      <td>California Ave &amp; Cortez St</td>\n",
       "      <td>17660</td>\n",
       "      <td>NaN</td>\n",
       "      <td>NaN</td>\n",
       "      <td>41.900326</td>\n",
       "      <td>-87.696697</td>\n",
       "      <td>41.90</td>\n",
       "      <td>-87.70</td>\n",
       "      <td>casual</td>\n",
       "      <td>0 days 00:00:43</td>\n",
       "      <td>2021-01-23</td>\n",
       "      <td>2021</td>\n",
       "      <td>January</td>\n",
       "      <td>Saturday</td>\n",
       "      <td>2</td>\n",
       "    </tr>\n",
       "  </tbody>\n",
       "</table>\n",
       "</div>"
      ],
      "text/plain": [
       "            ride_id  rideable_type          started_at            ended_at  \\\n",
       "0  E19E6F1B8D4C42ED  electric_bike 2021-01-23 16:14:19 2021-01-23 16:24:44   \n",
       "1  DC88F20C2C55F27F  electric_bike 2021-01-27 18:43:08 2021-01-27 18:47:12   \n",
       "2  EC45C94683FE3F27  electric_bike 2021-01-21 22:35:54 2021-01-21 22:37:14   \n",
       "3  4FA453A75AE377DB  electric_bike 2021-01-07 13:31:13 2021-01-07 13:42:55   \n",
       "4  BE5E8EB4E7263A0B  electric_bike 2021-01-23 02:24:02 2021-01-23 02:24:45   \n",
       "\n",
       "           start_station_name start_station_id end_station_name  \\\n",
       "0  California Ave & Cortez St            17660              NaN   \n",
       "1  California Ave & Cortez St            17660              NaN   \n",
       "2  California Ave & Cortez St            17660              NaN   \n",
       "3  California Ave & Cortez St            17660              NaN   \n",
       "4  California Ave & Cortez St            17660              NaN   \n",
       "\n",
       "  end_station_id  start_lat  start_lng  end_lat  end_lng member_casual  \\\n",
       "0            NaN  41.900341 -87.696743    41.89   -87.72        member   \n",
       "1            NaN  41.900333 -87.696707    41.90   -87.69        member   \n",
       "2            NaN  41.900313 -87.696643    41.90   -87.70        member   \n",
       "3            NaN  41.900399 -87.696662    41.92   -87.69        member   \n",
       "4            NaN  41.900326 -87.696697    41.90   -87.70        casual   \n",
       "\n",
       "    trip_duration       date  year    month   day_name  hour  \n",
       "0 0 days 00:10:25 2021-01-23  2021  January   Saturday    16  \n",
       "1 0 days 00:04:04 2021-01-27  2021  January  Wednesday    18  \n",
       "2 0 days 00:01:20 2021-01-21  2021  January   Thursday    22  \n",
       "3 0 days 00:11:42 2021-01-07  2021  January   Thursday    13  \n",
       "4 0 days 00:00:43 2021-01-23  2021  January   Saturday     2  "
      ]
     },
     "execution_count": 25,
     "metadata": {},
     "output_type": "execute_result"
    }
   ],
   "source": [
    "data.head()"
   ]
  },
  {
   "cell_type": "code",
   "execution_count": 26,
   "id": "7418631b",
   "metadata": {},
   "outputs": [
    {
     "data": {
      "text/plain": [
       "ride_id                    0\n",
       "rideable_type              0\n",
       "started_at                 0\n",
       "ended_at                   0\n",
       "start_station_name    690809\n",
       "start_station_id      690806\n",
       "end_station_name      739170\n",
       "end_station_id        739170\n",
       "start_lat                  0\n",
       "start_lng                  0\n",
       "end_lat                 4771\n",
       "end_lng                 4771\n",
       "member_casual              0\n",
       "trip_duration              0\n",
       "date                       0\n",
       "year                       0\n",
       "month                      0\n",
       "day_name                   0\n",
       "hour                       0\n",
       "dtype: int64"
      ]
     },
     "execution_count": 26,
     "metadata": {},
     "output_type": "execute_result"
    }
   ],
   "source": [
    "# calculating the missing values and their % of total values\n",
    "data.isnull().sum()"
   ]
  },
  {
   "cell_type": "code",
   "execution_count": 27,
   "id": "85226d18",
   "metadata": {},
   "outputs": [
    {
     "data": {
      "text/plain": [
       "(5595063, 19)"
      ]
     },
     "execution_count": 27,
     "metadata": {},
     "output_type": "execute_result"
    }
   ],
   "source": [
    "data.shape"
   ]
  },
  {
   "cell_type": "code",
   "execution_count": 28,
   "id": "8ce9c8c4",
   "metadata": {},
   "outputs": [
    {
     "data": {
      "text/plain": [
       "0.13211111295797742"
      ]
     },
     "execution_count": 28,
     "metadata": {},
     "output_type": "execute_result"
    }
   ],
   "source": [
    "739170/5595063"
   ]
  },
  {
   "cell_type": "code",
   "execution_count": 29,
   "id": "eea51607",
   "metadata": {},
   "outputs": [],
   "source": [
    "# 13% of all values are null values, i decided to drop them\n",
    "data.dropna(inplace=True)"
   ]
  },
  {
   "cell_type": "code",
   "execution_count": 30,
   "id": "80ae6dfe",
   "metadata": {},
   "outputs": [
    {
     "data": {
      "text/html": [
       "<div>\n",
       "<style scoped>\n",
       "    .dataframe tbody tr th:only-of-type {\n",
       "        vertical-align: middle;\n",
       "    }\n",
       "\n",
       "    .dataframe tbody tr th {\n",
       "        vertical-align: top;\n",
       "    }\n",
       "\n",
       "    .dataframe thead th {\n",
       "        text-align: right;\n",
       "    }\n",
       "</style>\n",
       "<table border=\"1\" class=\"dataframe\">\n",
       "  <thead>\n",
       "    <tr style=\"text-align: right;\">\n",
       "      <th></th>\n",
       "      <th>ride_id</th>\n",
       "      <th>rideable_type</th>\n",
       "      <th>started_at</th>\n",
       "      <th>ended_at</th>\n",
       "      <th>start_station_name</th>\n",
       "      <th>start_station_id</th>\n",
       "      <th>end_station_name</th>\n",
       "      <th>end_station_id</th>\n",
       "      <th>start_lat</th>\n",
       "      <th>start_lng</th>\n",
       "      <th>end_lat</th>\n",
       "      <th>end_lng</th>\n",
       "      <th>member_casual</th>\n",
       "      <th>trip_duration</th>\n",
       "      <th>date</th>\n",
       "      <th>year</th>\n",
       "      <th>month</th>\n",
       "      <th>day_name</th>\n",
       "      <th>hour</th>\n",
       "    </tr>\n",
       "  </thead>\n",
       "  <tbody>\n",
       "    <tr>\n",
       "      <th>9</th>\n",
       "      <td>B9F73448DFBE0D45</td>\n",
       "      <td>classic_bike</td>\n",
       "      <td>2021-01-24 19:15:38</td>\n",
       "      <td>2021-01-24 19:22:51</td>\n",
       "      <td>California Ave &amp; Cortez St</td>\n",
       "      <td>17660</td>\n",
       "      <td>Wood St &amp; Augusta Blvd</td>\n",
       "      <td>657</td>\n",
       "      <td>41.900363</td>\n",
       "      <td>-87.696704</td>\n",
       "      <td>41.899181</td>\n",
       "      <td>-87.672200</td>\n",
       "      <td>member</td>\n",
       "      <td>0 days 00:07:13</td>\n",
       "      <td>2021-01-24</td>\n",
       "      <td>2021</td>\n",
       "      <td>January</td>\n",
       "      <td>Sunday</td>\n",
       "      <td>19</td>\n",
       "    </tr>\n",
       "    <tr>\n",
       "      <th>10</th>\n",
       "      <td>457C7F4B5D3DA135</td>\n",
       "      <td>electric_bike</td>\n",
       "      <td>2021-01-23 12:57:38</td>\n",
       "      <td>2021-01-23 13:02:10</td>\n",
       "      <td>California Ave &amp; Cortez St</td>\n",
       "      <td>17660</td>\n",
       "      <td>California Ave &amp; North Ave</td>\n",
       "      <td>13258</td>\n",
       "      <td>41.900406</td>\n",
       "      <td>-87.696733</td>\n",
       "      <td>41.910435</td>\n",
       "      <td>-87.696890</td>\n",
       "      <td>member</td>\n",
       "      <td>0 days 00:04:32</td>\n",
       "      <td>2021-01-23</td>\n",
       "      <td>2021</td>\n",
       "      <td>January</td>\n",
       "      <td>Saturday</td>\n",
       "      <td>12</td>\n",
       "    </tr>\n",
       "    <tr>\n",
       "      <th>11</th>\n",
       "      <td>57C750326F9FDABE</td>\n",
       "      <td>electric_bike</td>\n",
       "      <td>2021-01-09 15:28:04</td>\n",
       "      <td>2021-01-09 15:37:51</td>\n",
       "      <td>California Ave &amp; Cortez St</td>\n",
       "      <td>17660</td>\n",
       "      <td>Wood St &amp; Augusta Blvd</td>\n",
       "      <td>657</td>\n",
       "      <td>41.900374</td>\n",
       "      <td>-87.696688</td>\n",
       "      <td>41.899180</td>\n",
       "      <td>-87.672178</td>\n",
       "      <td>casual</td>\n",
       "      <td>0 days 00:09:47</td>\n",
       "      <td>2021-01-09</td>\n",
       "      <td>2021</td>\n",
       "      <td>January</td>\n",
       "      <td>Saturday</td>\n",
       "      <td>15</td>\n",
       "    </tr>\n",
       "    <tr>\n",
       "      <th>12</th>\n",
       "      <td>4D518C65E338D070</td>\n",
       "      <td>electric_bike</td>\n",
       "      <td>2021-01-09 15:28:57</td>\n",
       "      <td>2021-01-09 15:37:54</td>\n",
       "      <td>California Ave &amp; Cortez St</td>\n",
       "      <td>17660</td>\n",
       "      <td>Wood St &amp; Augusta Blvd</td>\n",
       "      <td>657</td>\n",
       "      <td>41.900379</td>\n",
       "      <td>-87.696716</td>\n",
       "      <td>41.899149</td>\n",
       "      <td>-87.672177</td>\n",
       "      <td>casual</td>\n",
       "      <td>0 days 00:08:57</td>\n",
       "      <td>2021-01-09</td>\n",
       "      <td>2021</td>\n",
       "      <td>January</td>\n",
       "      <td>Saturday</td>\n",
       "      <td>15</td>\n",
       "    </tr>\n",
       "    <tr>\n",
       "      <th>13</th>\n",
       "      <td>9D08A3AFF410474D</td>\n",
       "      <td>classic_bike</td>\n",
       "      <td>2021-01-24 15:56:59</td>\n",
       "      <td>2021-01-24 16:07:08</td>\n",
       "      <td>California Ave &amp; Cortez St</td>\n",
       "      <td>17660</td>\n",
       "      <td>Wood St &amp; Augusta Blvd</td>\n",
       "      <td>657</td>\n",
       "      <td>41.900363</td>\n",
       "      <td>-87.696704</td>\n",
       "      <td>41.899181</td>\n",
       "      <td>-87.672200</td>\n",
       "      <td>casual</td>\n",
       "      <td>0 days 00:10:09</td>\n",
       "      <td>2021-01-24</td>\n",
       "      <td>2021</td>\n",
       "      <td>January</td>\n",
       "      <td>Sunday</td>\n",
       "      <td>15</td>\n",
       "    </tr>\n",
       "  </tbody>\n",
       "</table>\n",
       "</div>"
      ],
      "text/plain": [
       "             ride_id  rideable_type          started_at            ended_at  \\\n",
       "9   B9F73448DFBE0D45   classic_bike 2021-01-24 19:15:38 2021-01-24 19:22:51   \n",
       "10  457C7F4B5D3DA135  electric_bike 2021-01-23 12:57:38 2021-01-23 13:02:10   \n",
       "11  57C750326F9FDABE  electric_bike 2021-01-09 15:28:04 2021-01-09 15:37:51   \n",
       "12  4D518C65E338D070  electric_bike 2021-01-09 15:28:57 2021-01-09 15:37:54   \n",
       "13  9D08A3AFF410474D   classic_bike 2021-01-24 15:56:59 2021-01-24 16:07:08   \n",
       "\n",
       "            start_station_name start_station_id            end_station_name  \\\n",
       "9   California Ave & Cortez St            17660      Wood St & Augusta Blvd   \n",
       "10  California Ave & Cortez St            17660  California Ave & North Ave   \n",
       "11  California Ave & Cortez St            17660      Wood St & Augusta Blvd   \n",
       "12  California Ave & Cortez St            17660      Wood St & Augusta Blvd   \n",
       "13  California Ave & Cortez St            17660      Wood St & Augusta Blvd   \n",
       "\n",
       "   end_station_id  start_lat  start_lng    end_lat    end_lng member_casual  \\\n",
       "9             657  41.900363 -87.696704  41.899181 -87.672200        member   \n",
       "10          13258  41.900406 -87.696733  41.910435 -87.696890        member   \n",
       "11            657  41.900374 -87.696688  41.899180 -87.672178        casual   \n",
       "12            657  41.900379 -87.696716  41.899149 -87.672177        casual   \n",
       "13            657  41.900363 -87.696704  41.899181 -87.672200        casual   \n",
       "\n",
       "     trip_duration       date  year    month  day_name  hour  \n",
       "9  0 days 00:07:13 2021-01-24  2021  January    Sunday    19  \n",
       "10 0 days 00:04:32 2021-01-23  2021  January  Saturday    12  \n",
       "11 0 days 00:09:47 2021-01-09  2021  January  Saturday    15  \n",
       "12 0 days 00:08:57 2021-01-09  2021  January  Saturday    15  \n",
       "13 0 days 00:10:09 2021-01-24  2021  January    Sunday    15  "
      ]
     },
     "execution_count": 30,
     "metadata": {},
     "output_type": "execute_result"
    }
   ],
   "source": [
    "data.head()"
   ]
  },
  {
   "cell_type": "code",
   "execution_count": 31,
   "id": "1c789879",
   "metadata": {},
   "outputs": [
    {
     "data": {
      "text/plain": [
       "ride_id               0\n",
       "rideable_type         0\n",
       "started_at            0\n",
       "ended_at              0\n",
       "start_station_name    0\n",
       "start_station_id      0\n",
       "end_station_name      0\n",
       "end_station_id        0\n",
       "start_lat             0\n",
       "start_lng             0\n",
       "end_lat               0\n",
       "end_lng               0\n",
       "member_casual         0\n",
       "trip_duration         0\n",
       "date                  0\n",
       "year                  0\n",
       "month                 0\n",
       "day_name              0\n",
       "hour                  0\n",
       "dtype: int64"
      ]
     },
     "execution_count": 31,
     "metadata": {},
     "output_type": "execute_result"
    }
   ],
   "source": [
    "# checking once again the null values\n",
    "data.isnull().sum()"
   ]
  },
  {
   "cell_type": "code",
   "execution_count": 32,
   "id": "feb94668",
   "metadata": {},
   "outputs": [
    {
     "data": {
      "text/plain": [
       "False"
      ]
     },
     "execution_count": 32,
     "metadata": {},
     "output_type": "execute_result"
    }
   ],
   "source": [
    "# checking for any duplicate value\n",
    "data.duplicated().any()"
   ]
  },
  {
   "cell_type": "code",
   "execution_count": 33,
   "id": "ce4d3ec2",
   "metadata": {},
   "outputs": [
    {
     "data": {
      "text/plain": [
       "0"
      ]
     },
     "execution_count": 33,
     "metadata": {},
     "output_type": "execute_result"
    }
   ],
   "source": [
    "data.duplicated().sum()"
   ]
  },
  {
   "cell_type": "markdown",
   "id": "0c37281d",
   "metadata": {},
   "source": [
    "# Data Analysis"
   ]
  },
  {
   "cell_type": "code",
   "execution_count": 34,
   "id": "af8abaef",
   "metadata": {},
   "outputs": [
    {
     "data": {
      "text/plain": [
       "count                      4588302\n",
       "mean     0 days 00:21:48.637676421\n",
       "std      0 days 03:04:25.503842186\n",
       "min              -1 days +23:04:06\n",
       "25%                0 days 00:06:57\n",
       "50%                0 days 00:12:12\n",
       "75%                0 days 00:22:07\n",
       "max               38 days 20:24:09\n",
       "Name: trip_duration, dtype: object"
      ]
     },
     "execution_count": 34,
     "metadata": {},
     "output_type": "execute_result"
    }
   ],
   "source": [
    "# statistical data about the trip duration of all data\n",
    "data.trip_duration.describe()"
   ]
  },
  {
   "cell_type": "code",
   "execution_count": 35,
   "id": "5e431b77",
   "metadata": {},
   "outputs": [
    {
     "data": {
      "text/plain": [
       "ride_id               116\n",
       "rideable_type         116\n",
       "started_at            116\n",
       "ended_at              116\n",
       "start_station_name    116\n",
       "start_station_id      116\n",
       "end_station_name      116\n",
       "end_station_id        116\n",
       "start_lat             116\n",
       "start_lng             116\n",
       "end_lat               116\n",
       "end_lng               116\n",
       "member_casual         116\n",
       "trip_duration         116\n",
       "date                  116\n",
       "year                  116\n",
       "month                 116\n",
       "day_name              116\n",
       "hour                  116\n",
       "dtype: int64"
      ]
     },
     "execution_count": 35,
     "metadata": {},
     "output_type": "execute_result"
    }
   ],
   "source": [
    "# calculating the -ve trip duration count and removing them\n",
    "negative_rides = data.trip_duration < '0 days 00:00:00'\n",
    "data[negative_rides].count()"
   ]
  },
  {
   "cell_type": "code",
   "execution_count": 36,
   "id": "a870e912",
   "metadata": {},
   "outputs": [
    {
     "data": {
      "text/html": [
       "<div>\n",
       "<style scoped>\n",
       "    .dataframe tbody tr th:only-of-type {\n",
       "        vertical-align: middle;\n",
       "    }\n",
       "\n",
       "    .dataframe tbody tr th {\n",
       "        vertical-align: top;\n",
       "    }\n",
       "\n",
       "    .dataframe thead th {\n",
       "        text-align: right;\n",
       "    }\n",
       "</style>\n",
       "<table border=\"1\" class=\"dataframe\">\n",
       "  <thead>\n",
       "    <tr style=\"text-align: right;\">\n",
       "      <th></th>\n",
       "      <th>ride_id</th>\n",
       "      <th>rideable_type</th>\n",
       "      <th>started_at</th>\n",
       "      <th>ended_at</th>\n",
       "      <th>start_station_name</th>\n",
       "      <th>start_station_id</th>\n",
       "      <th>end_station_name</th>\n",
       "      <th>end_station_id</th>\n",
       "      <th>start_lat</th>\n",
       "      <th>start_lng</th>\n",
       "      <th>end_lat</th>\n",
       "      <th>end_lng</th>\n",
       "      <th>member_casual</th>\n",
       "      <th>trip_duration</th>\n",
       "      <th>date</th>\n",
       "      <th>year</th>\n",
       "      <th>month</th>\n",
       "      <th>day_name</th>\n",
       "      <th>hour</th>\n",
       "    </tr>\n",
       "  </thead>\n",
       "  <tbody>\n",
       "    <tr>\n",
       "      <th>39317</th>\n",
       "      <td>F79335E3A77A57B5</td>\n",
       "      <td>electric_bike</td>\n",
       "      <td>2021-03-29 15:41:21</td>\n",
       "      <td>2021-03-29 15:41:20</td>\n",
       "      <td>Ashland Ave &amp; Belle Plaine Ave</td>\n",
       "      <td>13249</td>\n",
       "      <td>Ashland Ave &amp; Belle Plaine Ave</td>\n",
       "      <td>13249</td>\n",
       "      <td>41.956133</td>\n",
       "      <td>-87.668981</td>\n",
       "      <td>41.956143</td>\n",
       "      <td>-87.668985</td>\n",
       "      <td>member</td>\n",
       "      <td>-1 days +23:59:59</td>\n",
       "      <td>2021-03-29</td>\n",
       "      <td>2021</td>\n",
       "      <td>March</td>\n",
       "      <td>Monday</td>\n",
       "      <td>15</td>\n",
       "    </tr>\n",
       "    <tr>\n",
       "      <th>120830</th>\n",
       "      <td>5D2797A8FFA71B49</td>\n",
       "      <td>classic_bike</td>\n",
       "      <td>2021-03-13 18:02:58</td>\n",
       "      <td>2021-03-13 18:02:57</td>\n",
       "      <td>Dayton St &amp; North Ave</td>\n",
       "      <td>13058</td>\n",
       "      <td>Dayton St &amp; North Ave</td>\n",
       "      <td>13058</td>\n",
       "      <td>41.910578</td>\n",
       "      <td>-87.649422</td>\n",
       "      <td>41.910578</td>\n",
       "      <td>-87.649422</td>\n",
       "      <td>casual</td>\n",
       "      <td>-1 days +23:59:59</td>\n",
       "      <td>2021-03-13</td>\n",
       "      <td>2021</td>\n",
       "      <td>March</td>\n",
       "      <td>Saturday</td>\n",
       "      <td>18</td>\n",
       "    </tr>\n",
       "    <tr>\n",
       "      <th>22361</th>\n",
       "      <td>BC53ECCBC76278FD</td>\n",
       "      <td>classic_bike</td>\n",
       "      <td>2021-04-07 16:11:33</td>\n",
       "      <td>2021-04-07 16:11:26</td>\n",
       "      <td>Ashland Ave &amp; Grand Ave</td>\n",
       "      <td>13434</td>\n",
       "      <td>Ashland Ave &amp; Grand Ave</td>\n",
       "      <td>13434</td>\n",
       "      <td>41.891072</td>\n",
       "      <td>-87.666611</td>\n",
       "      <td>41.891072</td>\n",
       "      <td>-87.666611</td>\n",
       "      <td>member</td>\n",
       "      <td>-1 days +23:59:53</td>\n",
       "      <td>2021-04-07</td>\n",
       "      <td>2021</td>\n",
       "      <td>April</td>\n",
       "      <td>Wednesday</td>\n",
       "      <td>16</td>\n",
       "    </tr>\n",
       "    <tr>\n",
       "      <th>292566</th>\n",
       "      <td>6E81034B446FC2FD</td>\n",
       "      <td>electric_bike</td>\n",
       "      <td>2021-04-23 09:43:39</td>\n",
       "      <td>2021-04-23 09:43:29</td>\n",
       "      <td>Dayton St &amp; North Ave</td>\n",
       "      <td>13058</td>\n",
       "      <td>Dayton St &amp; North Ave</td>\n",
       "      <td>13058</td>\n",
       "      <td>41.910638</td>\n",
       "      <td>-87.649372</td>\n",
       "      <td>41.910650</td>\n",
       "      <td>-87.649386</td>\n",
       "      <td>member</td>\n",
       "      <td>-1 days +23:59:50</td>\n",
       "      <td>2021-04-23</td>\n",
       "      <td>2021</td>\n",
       "      <td>April</td>\n",
       "      <td>Friday</td>\n",
       "      <td>9</td>\n",
       "    </tr>\n",
       "    <tr>\n",
       "      <th>292678</th>\n",
       "      <td>318DD838369AEA61</td>\n",
       "      <td>classic_bike</td>\n",
       "      <td>2021-04-30 10:56:32</td>\n",
       "      <td>2021-04-30 10:56:30</td>\n",
       "      <td>Dayton St &amp; North Ave</td>\n",
       "      <td>13058</td>\n",
       "      <td>Dayton St &amp; North Ave</td>\n",
       "      <td>13058</td>\n",
       "      <td>41.910578</td>\n",
       "      <td>-87.649422</td>\n",
       "      <td>41.910578</td>\n",
       "      <td>-87.649422</td>\n",
       "      <td>member</td>\n",
       "      <td>-1 days +23:59:58</td>\n",
       "      <td>2021-04-30</td>\n",
       "      <td>2021</td>\n",
       "      <td>April</td>\n",
       "      <td>Friday</td>\n",
       "      <td>10</td>\n",
       "    </tr>\n",
       "  </tbody>\n",
       "</table>\n",
       "</div>"
      ],
      "text/plain": [
       "                 ride_id  rideable_type          started_at  \\\n",
       "39317   F79335E3A77A57B5  electric_bike 2021-03-29 15:41:21   \n",
       "120830  5D2797A8FFA71B49   classic_bike 2021-03-13 18:02:58   \n",
       "22361   BC53ECCBC76278FD   classic_bike 2021-04-07 16:11:33   \n",
       "292566  6E81034B446FC2FD  electric_bike 2021-04-23 09:43:39   \n",
       "292678  318DD838369AEA61   classic_bike 2021-04-30 10:56:32   \n",
       "\n",
       "                  ended_at              start_station_name start_station_id  \\\n",
       "39317  2021-03-29 15:41:20  Ashland Ave & Belle Plaine Ave            13249   \n",
       "120830 2021-03-13 18:02:57           Dayton St & North Ave            13058   \n",
       "22361  2021-04-07 16:11:26         Ashland Ave & Grand Ave            13434   \n",
       "292566 2021-04-23 09:43:29           Dayton St & North Ave            13058   \n",
       "292678 2021-04-30 10:56:30           Dayton St & North Ave            13058   \n",
       "\n",
       "                      end_station_name end_station_id  start_lat  start_lng  \\\n",
       "39317   Ashland Ave & Belle Plaine Ave          13249  41.956133 -87.668981   \n",
       "120830           Dayton St & North Ave          13058  41.910578 -87.649422   \n",
       "22361          Ashland Ave & Grand Ave          13434  41.891072 -87.666611   \n",
       "292566           Dayton St & North Ave          13058  41.910638 -87.649372   \n",
       "292678           Dayton St & North Ave          13058  41.910578 -87.649422   \n",
       "\n",
       "          end_lat    end_lng member_casual     trip_duration       date  year  \\\n",
       "39317   41.956143 -87.668985        member -1 days +23:59:59 2021-03-29  2021   \n",
       "120830  41.910578 -87.649422        casual -1 days +23:59:59 2021-03-13  2021   \n",
       "22361   41.891072 -87.666611        member -1 days +23:59:53 2021-04-07  2021   \n",
       "292566  41.910650 -87.649386        member -1 days +23:59:50 2021-04-23  2021   \n",
       "292678  41.910578 -87.649422        member -1 days +23:59:58 2021-04-30  2021   \n",
       "\n",
       "        month   day_name  hour  \n",
       "39317   March     Monday    15  \n",
       "120830  March   Saturday    18  \n",
       "22361   April  Wednesday    16  \n",
       "292566  April     Friday     9  \n",
       "292678  April     Friday    10  "
      ]
     },
     "execution_count": 36,
     "metadata": {},
     "output_type": "execute_result"
    }
   ],
   "source": [
    "data[negative_rides].head()"
   ]
  },
  {
   "cell_type": "code",
   "execution_count": 37,
   "id": "878a1437",
   "metadata": {},
   "outputs": [],
   "source": [
    "data.drop(data[negative_rides].index, inplace=True)"
   ]
  },
  {
   "cell_type": "code",
   "execution_count": 38,
   "id": "bfe11bfa",
   "metadata": {},
   "outputs": [
    {
     "data": {
      "text/plain": [
       "count                      2539431\n",
       "mean     0 days 00:13:11.022482989\n",
       "std      0 days 00:17:32.901085710\n",
       "min                0 days 00:00:00\n",
       "25%                0 days 00:05:43\n",
       "50%                0 days 00:09:43\n",
       "75%                0 days 00:16:31\n",
       "max                1 days 00:55:38\n",
       "Name: trip_duration, dtype: object"
      ]
     },
     "execution_count": 38,
     "metadata": {},
     "output_type": "execute_result"
    }
   ],
   "source": [
    "# filtering trip duration for members \n",
    "member_only = data['member_casual'] == 'member'\n",
    "data[member_only].trip_duration.describe()"
   ]
  },
  {
   "cell_type": "code",
   "execution_count": 39,
   "id": "52641f18",
   "metadata": {},
   "outputs": [
    {
     "data": {
      "text/plain": [
       "count                      2048013\n",
       "mean     0 days 00:32:30.635092648\n",
       "std      0 days 04:34:58.555432792\n",
       "min                0 days 00:00:00\n",
       "25%                0 days 00:09:30\n",
       "50%                0 days 00:16:39\n",
       "75%                0 days 00:30:39\n",
       "max               38 days 20:24:09\n",
       "Name: trip_duration, dtype: object"
      ]
     },
     "execution_count": 39,
     "metadata": {},
     "output_type": "execute_result"
    }
   ],
   "source": [
    "# filtering trip duration for casual riders \n",
    "data[~member_only].trip_duration.describe()"
   ]
  },
  {
   "cell_type": "code",
   "execution_count": 40,
   "id": "db6ae4ac",
   "metadata": {},
   "outputs": [
    {
     "data": {
      "text/plain": [
       "0    Saturday\n",
       "Name: day_name, dtype: category\n",
       "Categories (7, object): ['Monday', 'Tuesday', 'Wednesday', 'Thursday', 'Friday', 'Saturday', 'Sunday']"
      ]
     },
     "execution_count": 40,
     "metadata": {},
     "output_type": "execute_result"
    }
   ],
   "source": [
    "# calculating mode for users\n",
    "mode_day_users = data.day_name.mode()\n",
    "mode_day_users"
   ]
  },
  {
   "cell_type": "code",
   "execution_count": 41,
   "id": "088868dc",
   "metadata": {},
   "outputs": [
    {
     "data": {
      "text/plain": [
       "0    Wednesday\n",
       "Name: day_name, dtype: category\n",
       "Categories (7, object): ['Monday', 'Tuesday', 'Wednesday', 'Thursday', 'Friday', 'Saturday', 'Sunday']"
      ]
     },
     "execution_count": 41,
     "metadata": {},
     "output_type": "execute_result"
    }
   ],
   "source": [
    "# calculating mode for members\n",
    "mode_day_member = data[data['member_casual'] == 'member']\n",
    "mode_day_member = mode_day_member.day_name.mode()\n",
    "mode_day_member"
   ]
  },
  {
   "cell_type": "code",
   "execution_count": 42,
   "id": "15ecba5c",
   "metadata": {},
   "outputs": [
    {
     "data": {
      "text/plain": [
       "0    Saturday\n",
       "Name: day_name, dtype: category\n",
       "Categories (7, object): ['Monday', 'Tuesday', 'Wednesday', 'Thursday', 'Friday', 'Saturday', 'Sunday']"
      ]
     },
     "execution_count": 42,
     "metadata": {},
     "output_type": "execute_result"
    }
   ],
   "source": [
    "# calculating mode for casual riders\n",
    "mode_day_casual = data[data['member_casual'] == 'casual']\n",
    "mode_day_casual = mode_day_casual.day_name.mode()\n",
    "mode_day_casual"
   ]
  },
  {
   "cell_type": "code",
   "execution_count": 43,
   "id": "1b704906",
   "metadata": {},
   "outputs": [
    {
     "data": {
      "text/plain": [
       "day_name\n",
       "Monday       575326\n",
       "Tuesday      602976\n",
       "Wednesday    615732\n",
       "Thursday     597585\n",
       "Friday       655709\n",
       "Saturday     825264\n",
       "Sunday       714852\n",
       "Name: ride_id, dtype: int64"
      ]
     },
     "execution_count": 43,
     "metadata": {},
     "output_type": "execute_result"
    }
   ],
   "source": [
    "# no of rides of users grouped by day name\n",
    "user_count = data.groupby('day_name').ride_id.count()\n",
    "user_count"
   ]
  },
  {
   "cell_type": "code",
   "execution_count": 44,
   "id": "97190e60",
   "metadata": {},
   "outputs": [
    {
     "data": {
      "text/plain": [
       "day_name\n",
       "Monday       346428\n",
       "Tuesday      388071\n",
       "Wednesday    397618\n",
       "Thursday     373416\n",
       "Friday       365711\n",
       "Saturday     357020\n",
       "Sunday       311167\n",
       "Name: ride_id, dtype: int64"
      ]
     },
     "execution_count": 44,
     "metadata": {},
     "output_type": "execute_result"
    }
   ],
   "source": [
    "# no of rides of members grouped by day name\n",
    "member_ride_count = data[data['member_casual'] == 'member'].groupby('day_name').ride_id.count()\n",
    "member_ride_count"
   ]
  },
  {
   "cell_type": "code",
   "execution_count": 45,
   "id": "aac19d27",
   "metadata": {},
   "outputs": [
    {
     "data": {
      "text/plain": [
       "day_name\n",
       "Monday       228898\n",
       "Tuesday      214905\n",
       "Wednesday    218114\n",
       "Thursday     224169\n",
       "Friday       289998\n",
       "Saturday     468244\n",
       "Sunday       403685\n",
       "Name: ride_id, dtype: int64"
      ]
     },
     "execution_count": 45,
     "metadata": {},
     "output_type": "execute_result"
    }
   ],
   "source": [
    "# no of rides of casual riders grouped by day name\n",
    "casual_ride_count = data[data['member_casual'] == 'casual'].groupby('day_name').ride_id.count()\n",
    "casual_ride_count"
   ]
  },
  {
   "cell_type": "markdown",
   "id": "6f716bbd",
   "metadata": {},
   "source": [
    "# Visualizations"
   ]
  },
  {
   "cell_type": "code",
   "execution_count": 46,
   "id": "bc626eea",
   "metadata": {},
   "outputs": [
    {
     "data": {
      "image/png": "[encoded data removed]",
      "text/plain": [
       "<Figure size 864x576 with 1 Axes>"
      ]
     },
     "metadata": {
      "needs_background": "light"
     },
     "output_type": "display_data"
    }
   ],
   "source": [
    "# plot the graph for number of rides by annual members and casual riders\n",
    "plt.figure(figsize = (12,8))\n",
    "plt.plot(member_ride_count.index, member_ride_count.values)\n",
    "plt.plot(casual_ride_count.index, casual_ride_count.values)\n",
    "plt.title('Number of rides by Annual Members and Casual Riders')\n",
    "plt.legend(['members', 'casual'])\n",
    "plt.show()"
   ]
  },
  {
   "cell_type": "markdown",
   "id": "6273c681",
   "metadata": {},
   "source": [
    "#### From this graph it is inferred that- \n",
    "- number of rides for casual riders significantly increases on Fridays, Saturdays and Sundays. \n",
    "- For members, number of rides drop on weekends. \n",
    "- Overall on weekdays members have higher ride count than casual riders."
   ]
  },
  {
   "cell_type": "code",
   "execution_count": 47,
   "id": "71895678",
   "metadata": {},
   "outputs": [
    {
     "data": {
      "text/plain": [
       "member    2539431\n",
       "casual    2048013\n",
       "Name: member_casual, dtype: int64"
      ]
     },
     "execution_count": 47,
     "metadata": {},
     "output_type": "execute_result"
    }
   ],
   "source": [
    "# number of users of each type\n",
    "user_type = data['member_casual'].value_counts()\n",
    "user_type"
   ]
  },
  {
   "cell_type": "code",
   "execution_count": 48,
   "id": "7151eb68",
   "metadata": {},
   "outputs": [
    {
     "data": {
      "text/plain": [
       "Text(0.5, 1.0, 'Number of users of each type')"
      ]
     },
     "execution_count": 48,
     "metadata": {},
     "output_type": "execute_result"
    },
    {
     "data": {
      "image/png": "[encoded data removed]",
      "text/plain": [
       "<Figure size 576x432 with 1 Axes>"
      ]
     },
     "metadata": {
      "needs_background": "light"
     },
     "output_type": "display_data"
    }
   ],
   "source": [
    "# plot the graph for number of users of each type\n",
    "plt.figure(figsize= (8,6))\n",
    "plt.bar(user_type.index, user_type.values)\n",
    "plt.title('Number of users of each type')"
   ]
  },
  {
   "cell_type": "code",
   "execution_count": 49,
   "id": "0bd3d11f",
   "metadata": {},
   "outputs": [
    {
     "data": {
      "text/plain": [
       "Text(0.5, 1.0, 'Percentage of users in each type')"
      ]
     },
     "execution_count": 49,
     "metadata": {},
     "output_type": "execute_result"
    },
    {
     "data": {
      "image/png": "[encoded data removed]",
      "text/plain": [
       "<Figure size 648x432 with 1 Axes>"
      ]
     },
     "metadata": {},
     "output_type": "display_data"
    }
   ],
   "source": [
    "# plot pie chart showing % of users on each category\n",
    "plt.figure(figsize = (9,6))\n",
    "plt.pie(user_type.values, labels= user_type.index, autopct= '%1.1f%%')\n",
    "plt.legend(['member', 'casual'])\n",
    "plt.title('Percentage of users in each type')"
   ]
  },
  {
   "cell_type": "code",
   "execution_count": 50,
   "id": "4e82508d",
   "metadata": {},
   "outputs": [
    {
     "data": {
      "text/plain": [
       "month\n",
       "January       83489\n",
       "February      42982\n",
       "March        205640\n",
       "April        298145\n",
       "May          450897\n",
       "June         608681\n",
       "July         692212\n",
       "August       674307\n",
       "September    621045\n",
       "October      477877\n",
       "November     255840\n",
       "December     176329\n",
       "Name: ride_id, dtype: int64"
      ]
     },
     "execution_count": 50,
     "metadata": {},
     "output_type": "execute_result"
    }
   ],
   "source": [
    "# no of rides by all users by month\n",
    "user_count_month = data.groupby('month').ride_id.count()\n",
    "user_count_month"
   ]
  },
  {
   "cell_type": "code",
   "execution_count": 51,
   "id": "7e07311b",
   "metadata": {},
   "outputs": [
    {
     "data": {
      "text/plain": [
       "month\n",
       "January       68801\n",
       "February      34370\n",
       "March        130016\n",
       "April        177752\n",
       "May          234112\n",
       "June         304537\n",
       "July         322856\n",
       "August       332880\n",
       "September    328152\n",
       "October      288797\n",
       "November     185890\n",
       "December     131268\n",
       "Name: ride_id, dtype: int64"
      ]
     },
     "execution_count": 51,
     "metadata": {},
     "output_type": "execute_result"
    }
   ],
   "source": [
    "# no of rides by members by month\n",
    "member_ride_count_month = data[data['member_casual'] == 'member'].groupby('month').ride_id.count()\n",
    "member_ride_count_month"
   ]
  },
  {
   "cell_type": "code",
   "execution_count": 52,
   "id": "290db869",
   "metadata": {},
   "outputs": [
    {
     "data": {
      "text/plain": [
       "month\n",
       "January       14688\n",
       "February       8612\n",
       "March         75624\n",
       "April        120393\n",
       "May          216785\n",
       "June         304144\n",
       "July         369356\n",
       "August       341427\n",
       "September    292893\n",
       "October      189080\n",
       "November      69950\n",
       "December      45061\n",
       "Name: ride_id, dtype: int64"
      ]
     },
     "execution_count": 52,
     "metadata": {},
     "output_type": "execute_result"
    }
   ],
   "source": [
    "# no of rides by casual riders by month\n",
    "casual_ride_count_month = data[data['member_casual'] == 'casual'].groupby('month').ride_id.count()\n",
    "casual_ride_count_month"
   ]
  },
  {
   "cell_type": "code",
   "execution_count": 53,
   "id": "f5762357",
   "metadata": {},
   "outputs": [
    {
     "data": {
      "text/plain": [
       "<matplotlib.legend.Legend at 0x16288a76610>"
      ]
     },
     "execution_count": 53,
     "metadata": {},
     "output_type": "execute_result"
    },
    {
     "data": {
      "image/png": "[encoded data removed]",
      "text/plain": [
       "<Figure size 864x576 with 1 Axes>"
      ]
     },
     "metadata": {
      "needs_background": "light"
     },
     "output_type": "display_data"
    }
   ],
   "source": [
    "# plot the graph - no of rides per month by annual members and casual riders\n",
    "plt.figure(figsize = (12,8))\n",
    "plt.plot(member_ride_count_month.index, member_ride_count_month.values)\n",
    "plt.plot(casual_ride_count_month.index, casual_ride_count_month.values)\n",
    "plt.title('Number of rides per month by Annual Members and Casual Riders')\n",
    "plt.legend(['members', 'casual'])"
   ]
  },
  {
   "cell_type": "markdown",
   "id": "790b5b57",
   "metadata": {},
   "source": [
    "#### From this graph it is infered that - \n",
    "- total rides rise during summer  season\n",
    "- total rides fall during winter season, lowest in february\n",
    "- casual riders have higher rides in summer season"
   ]
  },
  {
   "cell_type": "code",
   "execution_count": 54,
   "id": "0a59c60d",
   "metadata": {},
   "outputs": [
    {
     "data": {
      "text/plain": [
       "hour\n",
       "0      67549\n",
       "1      47022\n",
       "2      28553\n",
       "3      15321\n",
       "4      12681\n",
       "5      34383\n",
       "6      91025\n",
       "7     166367\n",
       "8     199266\n",
       "9     169097\n",
       "10    190744\n",
       "11    239350\n",
       "12    280395\n",
       "13    286385\n",
       "14    288265\n",
       "15    318299\n",
       "16    384583\n",
       "17    469550\n",
       "18    404567\n",
       "19    296168\n",
       "20    204275\n",
       "21    159954\n",
       "22    134967\n",
       "23     98678\n",
       "Name: ride_id, dtype: int64"
      ]
     },
     "execution_count": 54,
     "metadata": {},
     "output_type": "execute_result"
    }
   ],
   "source": [
    "# no of rides per hour by all users\n",
    "user_count_hour = data.groupby('hour').ride_id.count()\n",
    "user_count_hour"
   ]
  },
  {
   "cell_type": "code",
   "execution_count": 55,
   "id": "91cbfc58",
   "metadata": {},
   "outputs": [
    {
     "data": {
      "text/plain": [
       "hour\n",
       "0      25236\n",
       "1      16360\n",
       "2       8976\n",
       "3       5104\n",
       "4       5995\n",
       "5      25562\n",
       "6      71625\n",
       "7     130349\n",
       "8     149594\n",
       "9     108215\n",
       "10    105427\n",
       "11    126925\n",
       "12    146986\n",
       "13    144152\n",
       "14    142058\n",
       "15    165043\n",
       "16    216641\n",
       "17    273616\n",
       "18    228338\n",
       "19    161154\n",
       "20    106312\n",
       "21     77257\n",
       "22     58559\n",
       "23     39947\n",
       "Name: ride_id, dtype: int64"
      ]
     },
     "execution_count": 55,
     "metadata": {},
     "output_type": "execute_result"
    }
   ],
   "source": [
    "# no of rides per hour by members\n",
    "member_ride_count_hour = data[data['member_casual'] == 'member'].groupby('hour').ride_id.count()\n",
    "member_ride_count_hour"
   ]
  },
  {
   "cell_type": "code",
   "execution_count": 56,
   "id": "43c20c58",
   "metadata": {},
   "outputs": [
    {
     "data": {
      "text/plain": [
       "hour\n",
       "0      42313\n",
       "1      30662\n",
       "2      19577\n",
       "3      10217\n",
       "4       6686\n",
       "5       8821\n",
       "6      19400\n",
       "7      36018\n",
       "8      49672\n",
       "9      60882\n",
       "10     85317\n",
       "11    112425\n",
       "12    133409\n",
       "13    142233\n",
       "14    146207\n",
       "15    153256\n",
       "16    167942\n",
       "17    195934\n",
       "18    176229\n",
       "19    135014\n",
       "20     97963\n",
       "21     82697\n",
       "22     76408\n",
       "23     58731\n",
       "Name: ride_id, dtype: int64"
      ]
     },
     "execution_count": 56,
     "metadata": {},
     "output_type": "execute_result"
    }
   ],
   "source": [
    "# no of rides per hour by casual riders\n",
    "casual_ride_count_hour = data[data['member_casual'] == 'casual'].groupby('hour').ride_id.count()\n",
    "casual_ride_count_hour"
   ]
  },
  {
   "cell_type": "code",
   "execution_count": 57,
   "id": "ad4cf4ac",
   "metadata": {},
   "outputs": [
    {
     "data": {
      "text/plain": [
       "<matplotlib.legend.Legend at 0x16288999e80>"
      ]
     },
     "execution_count": 57,
     "metadata": {},
     "output_type": "execute_result"
    },
    {
     "data": {
      "image/png": "[encoded data removed]",
      "text/plain": [
       "<Figure size 864x576 with 1 Axes>"
      ]
     },
     "metadata": {
      "needs_background": "light"
     },
     "output_type": "display_data"
    }
   ],
   "source": [
    "# plot the graph - no of rides per hour by annual members and casual riders\n",
    "plt.figure(figsize = (12,8))\n",
    "plt.plot(member_ride_count_hour.index, member_ride_count_hour.values)\n",
    "plt.plot(casual_ride_count_hour.index, casual_ride_count_hour.values)\n",
    "plt.title('Number of rides per hour by Annual Members and Casual Riders')\n",
    "plt.legend(['members', 'casual'])"
   ]
  },
  {
   "cell_type": "markdown",
   "id": "0d41f36e",
   "metadata": {},
   "source": [
    "#### Frpm this graph it is inferred -\n",
    "- spike in rides in evening for all users\n",
    "- members have spike in morning and evening\n",
    "- in morning casual riders are way less than members"
   ]
  },
  {
   "cell_type": "code",
   "execution_count": 58,
   "id": "0191aeb7",
   "metadata": {},
   "outputs": [
    {
     "data": {
      "text/html": [
       "<div>\n",
       "<style scoped>\n",
       "    .dataframe tbody tr th:only-of-type {\n",
       "        vertical-align: middle;\n",
       "    }\n",
       "\n",
       "    .dataframe tbody tr th {\n",
       "        vertical-align: top;\n",
       "    }\n",
       "\n",
       "    .dataframe thead th {\n",
       "        text-align: right;\n",
       "    }\n",
       "</style>\n",
       "<table border=\"1\" class=\"dataframe\">\n",
       "  <thead>\n",
       "    <tr style=\"text-align: right;\">\n",
       "      <th></th>\n",
       "      <th>ride_id</th>\n",
       "      <th>rideable_type</th>\n",
       "      <th>started_at</th>\n",
       "      <th>ended_at</th>\n",
       "      <th>start_station_name</th>\n",
       "      <th>start_station_id</th>\n",
       "      <th>end_station_name</th>\n",
       "      <th>end_station_id</th>\n",
       "      <th>start_lat</th>\n",
       "      <th>start_lng</th>\n",
       "      <th>end_lat</th>\n",
       "      <th>end_lng</th>\n",
       "      <th>member_casual</th>\n",
       "      <th>trip_duration</th>\n",
       "      <th>date</th>\n",
       "      <th>year</th>\n",
       "      <th>month</th>\n",
       "      <th>day_name</th>\n",
       "      <th>hour</th>\n",
       "    </tr>\n",
       "  </thead>\n",
       "  <tbody>\n",
       "    <tr>\n",
       "      <th>9</th>\n",
       "      <td>B9F73448DFBE0D45</td>\n",
       "      <td>classic_bike</td>\n",
       "      <td>2021-01-24 19:15:38</td>\n",
       "      <td>2021-01-24 19:22:51</td>\n",
       "      <td>California Ave &amp; Cortez St</td>\n",
       "      <td>17660</td>\n",
       "      <td>Wood St &amp; Augusta Blvd</td>\n",
       "      <td>657</td>\n",
       "      <td>41.900363</td>\n",
       "      <td>-87.696704</td>\n",
       "      <td>41.899181</td>\n",
       "      <td>-87.672200</td>\n",
       "      <td>member</td>\n",
       "      <td>0 days 00:07:13</td>\n",
       "      <td>2021-01-24</td>\n",
       "      <td>2021</td>\n",
       "      <td>January</td>\n",
       "      <td>Sunday</td>\n",
       "      <td>19</td>\n",
       "    </tr>\n",
       "    <tr>\n",
       "      <th>10</th>\n",
       "      <td>457C7F4B5D3DA135</td>\n",
       "      <td>electric_bike</td>\n",
       "      <td>2021-01-23 12:57:38</td>\n",
       "      <td>2021-01-23 13:02:10</td>\n",
       "      <td>California Ave &amp; Cortez St</td>\n",
       "      <td>17660</td>\n",
       "      <td>California Ave &amp; North Ave</td>\n",
       "      <td>13258</td>\n",
       "      <td>41.900406</td>\n",
       "      <td>-87.696733</td>\n",
       "      <td>41.910435</td>\n",
       "      <td>-87.696890</td>\n",
       "      <td>member</td>\n",
       "      <td>0 days 00:04:32</td>\n",
       "      <td>2021-01-23</td>\n",
       "      <td>2021</td>\n",
       "      <td>January</td>\n",
       "      <td>Saturday</td>\n",
       "      <td>12</td>\n",
       "    </tr>\n",
       "    <tr>\n",
       "      <th>11</th>\n",
       "      <td>57C750326F9FDABE</td>\n",
       "      <td>electric_bike</td>\n",
       "      <td>2021-01-09 15:28:04</td>\n",
       "      <td>2021-01-09 15:37:51</td>\n",
       "      <td>California Ave &amp; Cortez St</td>\n",
       "      <td>17660</td>\n",
       "      <td>Wood St &amp; Augusta Blvd</td>\n",
       "      <td>657</td>\n",
       "      <td>41.900374</td>\n",
       "      <td>-87.696688</td>\n",
       "      <td>41.899180</td>\n",
       "      <td>-87.672178</td>\n",
       "      <td>casual</td>\n",
       "      <td>0 days 00:09:47</td>\n",
       "      <td>2021-01-09</td>\n",
       "      <td>2021</td>\n",
       "      <td>January</td>\n",
       "      <td>Saturday</td>\n",
       "      <td>15</td>\n",
       "    </tr>\n",
       "  </tbody>\n",
       "</table>\n",
       "</div>"
      ],
      "text/plain": [
       "             ride_id  rideable_type          started_at            ended_at  \\\n",
       "9   B9F73448DFBE0D45   classic_bike 2021-01-24 19:15:38 2021-01-24 19:22:51   \n",
       "10  457C7F4B5D3DA135  electric_bike 2021-01-23 12:57:38 2021-01-23 13:02:10   \n",
       "11  57C750326F9FDABE  electric_bike 2021-01-09 15:28:04 2021-01-09 15:37:51   \n",
       "\n",
       "            start_station_name start_station_id            end_station_name  \\\n",
       "9   California Ave & Cortez St            17660      Wood St & Augusta Blvd   \n",
       "10  California Ave & Cortez St            17660  California Ave & North Ave   \n",
       "11  California Ave & Cortez St            17660      Wood St & Augusta Blvd   \n",
       "\n",
       "   end_station_id  start_lat  start_lng    end_lat    end_lng member_casual  \\\n",
       "9             657  41.900363 -87.696704  41.899181 -87.672200        member   \n",
       "10          13258  41.900406 -87.696733  41.910435 -87.696890        member   \n",
       "11            657  41.900374 -87.696688  41.899180 -87.672178        casual   \n",
       "\n",
       "     trip_duration       date  year    month  day_name  hour  \n",
       "9  0 days 00:07:13 2021-01-24  2021  January    Sunday    19  \n",
       "10 0 days 00:04:32 2021-01-23  2021  January  Saturday    12  \n",
       "11 0 days 00:09:47 2021-01-09  2021  January  Saturday    15  "
      ]
     },
     "execution_count": 58,
     "metadata": {},
     "output_type": "execute_result"
    }
   ],
   "source": [
    "data.head(3)"
   ]
  },
  {
   "cell_type": "code",
   "execution_count": 59,
   "id": "e53706e4",
   "metadata": {},
   "outputs": [
    {
     "data": {
      "text/plain": [
       "member_casual\n",
       "casual   0 days 00:32:30.635092648\n",
       "member   0 days 00:13:11.022482989\n",
       "Name: trip_duration, dtype: timedelta64[ns]"
      ]
     },
     "execution_count": 59,
     "metadata": {},
     "output_type": "execute_result"
    }
   ],
   "source": [
    "user_trip_duration_overall = data.groupby('member_casual').trip_duration.mean()\n",
    "user_trip_duration_overall"
   ]
  },
  {
   "cell_type": "code",
   "execution_count": 60,
   "id": "58e920e2",
   "metadata": {},
   "outputs": [
    {
     "data": {
      "text/plain": [
       "Text(0.5, 1.0, 'Overall average trip duration of user type')"
      ]
     },
     "execution_count": 60,
     "metadata": {},
     "output_type": "execute_result"
    },
    {
     "data": {
      "image/png": "[encoded data removed]",
      "text/plain": [
       "<Figure size 576x432 with 1 Axes>"
      ]
     },
     "metadata": {
      "needs_background": "light"
     },
     "output_type": "display_data"
    }
   ],
   "source": [
    "# plot bar chart - overall avg trip duration by user type\n",
    "plt.figure(figsize= (8,6))\n",
    "plt.bar(user_trip_duration_overall.index, user_trip_duration_overall.values/pd.Timedelta(minutes=1))\n",
    "plt.title('Overall average trip duration of user type')"
   ]
  },
  {
   "cell_type": "markdown",
   "id": "c6249cf8",
   "metadata": {},
   "source": [
    "#### Inference from above graph-\n",
    "- average trip duration of casual riders is more than double of members"
   ]
  },
  {
   "cell_type": "code",
   "execution_count": 61,
   "id": "9bbe1bb6",
   "metadata": {},
   "outputs": [
    {
     "data": {
      "text/plain": [
       "day_name\n",
       "Monday      0 days 00:20:38.878588834\n",
       "Tuesday     0 days 00:18:14.297945523\n",
       "Wednesday   0 days 00:18:03.538635315\n",
       "Thursday    0 days 00:18:13.650349322\n",
       "Friday      0 days 00:20:48.576697894\n",
       "Saturday    0 days 00:26:11.803202369\n",
       "Sunday      0 days 00:27:50.981617173\n",
       "Name: trip_duration, dtype: timedelta64[ns]"
      ]
     },
     "execution_count": 61,
     "metadata": {},
     "output_type": "execute_result"
    }
   ],
   "source": [
    "# avg trip duration per day by all users\n",
    "user_avg_trip_duration_day = data.groupby('day_name').trip_duration.mean()\n",
    "user_avg_trip_duration_day"
   ]
  },
  {
   "cell_type": "code",
   "execution_count": 62,
   "id": "fd6140e7",
   "metadata": {},
   "outputs": [
    {
     "data": {
      "text/plain": [
       "day_name\n",
       "Monday      0 days 00:12:43.518309720\n",
       "Tuesday     0 days 00:12:23.223956440\n",
       "Wednesday   0 days 00:12:27.483320674\n",
       "Thursday    0 days 00:12:21.218391820\n",
       "Friday      0 days 00:12:47.563775768\n",
       "Saturday    0 days 00:14:49.105277015\n",
       "Sunday      0 days 00:15:11.692814469\n",
       "Name: trip_duration, dtype: timedelta64[ns]"
      ]
     },
     "execution_count": 62,
     "metadata": {},
     "output_type": "execute_result"
    }
   ],
   "source": [
    "# avg trip duration per day by members\n",
    "member_avg_trip_duration_day = data[data['member_casual'] == 'member'].groupby('day_name').trip_duration.mean()\n",
    "member_avg_trip_duration_day"
   ]
  },
  {
   "cell_type": "code",
   "execution_count": 63,
   "id": "ff4870f4",
   "metadata": {},
   "outputs": [
    {
     "data": {
      "text/plain": [
       "day_name\n",
       "Monday      0 days 00:32:38.317425228\n",
       "Tuesday     0 days 00:28:48.260087015\n",
       "Wednesday   0 days 00:28:16.161585226\n",
       "Thursday    0 days 00:28:00.724083169\n",
       "Friday      0 days 00:30:55.173008089\n",
       "Saturday    0 days 00:34:52.336969614\n",
       "Sunday      0 days 00:37:36.253843962\n",
       "Name: trip_duration, dtype: timedelta64[ns]"
      ]
     },
     "execution_count": 63,
     "metadata": {},
     "output_type": "execute_result"
    }
   ],
   "source": [
    "# avg trip duration per day by casual riders\n",
    "casual_avg_trip_duration_day = data[data['member_casual'] == 'casual'].groupby('day_name').trip_duration.mean()\n",
    "casual_avg_trip_duration_day"
   ]
  },
  {
   "cell_type": "code",
   "execution_count": 64,
   "id": "cfce34ee",
   "metadata": {},
   "outputs": [
    {
     "data": {
      "text/plain": [
       "<matplotlib.legend.Legend at 0x16292fe19d0>"
      ]
     },
     "execution_count": 64,
     "metadata": {},
     "output_type": "execute_result"
    },
    {
     "data": {
      "image/png": "[encoded data removed]",
      "text/plain": [
       "<Figure size 864x576 with 1 Axes>"
      ]
     },
     "metadata": {
      "needs_background": "light"
     },
     "output_type": "display_data"
    }
   ],
   "source": [
    "# plot the graph - avg trip duration per day by annual members and casual riders\n",
    "plt.figure(figsize = (12,8))\n",
    "plt.plot(member_avg_trip_duration_day/pd.Timedelta(minutes=1))\n",
    "plt.plot(casual_avg_trip_duration_day/pd.Timedelta(minutes=1))\n",
    "plt.title('Average trip duration for Annual Members and Casual Riders per day')\n",
    "plt.legend(['members', 'casual'])"
   ]
  },
  {
   "cell_type": "markdown",
   "id": "d6e173a5",
   "metadata": {},
   "source": [
    "#### Inference from above graph -\n",
    "- overall trip duration for casual riders is way more than members\n",
    "- for members there is slight increase in trip duration on weekends\n",
    "- for casual riders there significant increase in trip duration during weekends"
   ]
  },
  {
   "cell_type": "code",
   "execution_count": 65,
   "id": "91542cb3",
   "metadata": {},
   "outputs": [
    {
     "data": {
      "text/plain": [
       "month\n",
       "January     0 days 00:14:33.206218783\n",
       "February    0 days 00:21:15.877437066\n",
       "March       0 days 00:22:47.556428710\n",
       "April       0 days 00:24:01.656707306\n",
       "May         0 days 00:26:30.140978981\n",
       "June        0 days 00:26:19.325145683\n",
       "July        0 days 00:24:11.605736392\n",
       "August      0 days 00:21:09.252040984\n",
       "September   0 days 00:20:11.133587743\n",
       "October     0 days 00:17:40.337963534\n",
       "November    0 days 00:14:06.292252970\n",
       "December    0 days 00:14:13.567342864\n",
       "Name: trip_duration, dtype: timedelta64[ns]"
      ]
     },
     "execution_count": 65,
     "metadata": {},
     "output_type": "execute_result"
    }
   ],
   "source": [
    "# avg trip duration per month by all users\n",
    "user_avg_trip_duration_month = data.groupby('month').trip_duration.mean()\n",
    "user_avg_trip_duration_month"
   ]
  },
  {
   "cell_type": "code",
   "execution_count": 66,
   "id": "53d9d7ea",
   "metadata": {},
   "outputs": [
    {
     "data": {
      "text/plain": [
       "month\n",
       "January     0 days 00:12:01.821659568\n",
       "February    0 days 00:14:46.886208903\n",
       "March       0 days 00:13:39.984301932\n",
       "April       0 days 00:14:15.797774427\n",
       "May         0 days 00:14:20.556165425\n",
       "June        0 days 00:14:08.366569579\n",
       "July        0 days 00:13:47.442469707\n",
       "August      0 days 00:13:33.190233717\n",
       "September   0 days 00:13:07.864855310\n",
       "October     0 days 00:12:00.847619608\n",
       "November    0 days 00:10:57.113540265\n",
       "December    0 days 00:10:34.868200932\n",
       "Name: trip_duration, dtype: timedelta64[ns]"
      ]
     },
     "execution_count": 66,
     "metadata": {},
     "output_type": "execute_result"
    }
   ],
   "source": [
    "# avg trip duration per month by members\n",
    "member_avg_trip_duration_month = data[data['member_casual'] == 'member'].groupby('month').trip_duration.mean()\n",
    "member_avg_trip_duration_month"
   ]
  },
  {
   "cell_type": "code",
   "execution_count": 67,
   "id": "081d2898",
   "metadata": {},
   "outputs": [
    {
     "data": {
      "text/plain": [
       "month\n",
       "January     0 days 00:26:22.316312636\n",
       "February    0 days 00:47:08.319205759\n",
       "March       0 days 00:38:28.965738389\n",
       "April       0 days 00:38:26.637204820\n",
       "May         0 days 00:39:38.039403095\n",
       "June        0 days 00:38:31.228230706\n",
       "July        0 days 00:33:17.190093026\n",
       "August      0 days 00:28:33.897175677\n",
       "September   0 days 00:28:05.356191510\n",
       "October     0 days 00:26:18.868706367\n",
       "November    0 days 00:22:29.028934953\n",
       "December    0 days 00:24:50.663700317\n",
       "Name: trip_duration, dtype: timedelta64[ns]"
      ]
     },
     "execution_count": 67,
     "metadata": {},
     "output_type": "execute_result"
    }
   ],
   "source": [
    "# avg trip duration per month by casual riders\n",
    "casual_avg_trip_duration_month = data[data['member_casual'] == 'casual'].groupby('month').trip_duration.mean()\n",
    "casual_avg_trip_duration_month"
   ]
  },
  {
   "cell_type": "code",
   "execution_count": 68,
   "id": "2ef6f141",
   "metadata": {},
   "outputs": [
    {
     "data": {
      "text/plain": [
       "<matplotlib.legend.Legend at 0x161c388b910>"
      ]
     },
     "execution_count": 68,
     "metadata": {},
     "output_type": "execute_result"
    },
    {
     "data": {
      "image/png": "[encoded data removed]",
      "text/plain": [
       "<Figure size 864x576 with 1 Axes>"
      ]
     },
     "metadata": {
      "needs_background": "light"
     },
     "output_type": "display_data"
    }
   ],
   "source": [
    "# plot the graph - avg trip duration per month by annual members and casual riders\n",
    "plt.figure(figsize = (12,8))\n",
    "plt.plot(member_avg_trip_duration_month/pd.Timedelta(minutes=1))\n",
    "plt.plot(casual_avg_trip_duration_month/pd.Timedelta(minutes=1))\n",
    "plt.title('Average trip duration for Annual Members and Casual Riders per month')\n",
    "plt.legend(['members', 'casual'])"
   ]
  },
  {
   "cell_type": "markdown",
   "id": "aed8af6e",
   "metadata": {},
   "source": [
    "#### Inference from above graph -\n",
    "- overall trip duration for casual riders is way more than members\n",
    "- for members trip duration is low in winter months of november and december, highest in february\n",
    "- for casual rirders trip duration is low in winter months and highest in february\n",
    "- for february month, trip duration is highest but number of rides is lowest"
   ]
  },
  {
   "cell_type": "code",
   "execution_count": 69,
   "id": "7a141832",
   "metadata": {},
   "outputs": [
    {
     "data": {
      "text/plain": [
       "rideable_type  member_casual\n",
       "classic_bike   casual           1261331\n",
       "               member           1980041\n",
       "docked_bike    casual            312003\n",
       "               member                 1\n",
       "electric_bike  casual            474679\n",
       "               member            559389\n",
       "Name: ride_id, dtype: int64"
      ]
     },
     "execution_count": 69,
     "metadata": {},
     "output_type": "execute_result"
    }
   ],
   "source": [
    "q = data.groupby(['rideable_type', 'member_casual']).ride_id.count()\n",
    "q"
   ]
  },
  {
   "cell_type": "code",
   "execution_count": 70,
   "id": "8cb2d1e6",
   "metadata": {},
   "outputs": [
    {
     "data": {
      "text/plain": [
       "Text(0, 0.5, 'No. of Rides')"
      ]
     },
     "execution_count": 70,
     "metadata": {},
     "output_type": "execute_result"
    },
    {
     "data": {
      "image/png": "[encoded data removed]",
      "text/plain": [
       "<Figure size 720x576 with 1 Axes>"
      ]
     },
     "metadata": {
      "needs_background": "light"
     },
     "output_type": "display_data"
    }
   ],
   "source": [
    "# plot bar graph - no of rides each user type undertakes on rideable type\n",
    "plt.figure(figsize=(10,8))\n",
    "sns.countplot(data = data, x = 'rideable_type', hue = 'member_casual')\n",
    "plt.xlabel('Rideable Type')\n",
    "plt.ylabel('No. of Rides')"
   ]
  },
  {
   "cell_type": "markdown",
   "id": "cdfc8238",
   "metadata": {},
   "source": [
    "#### Inference from above graph -\n",
    "- members use the bikes more overall\n",
    "- members do not use the docked bikes"
   ]
  },
  {
   "cell_type": "markdown",
   "id": "b3f4a9d0",
   "metadata": {},
   "source": [
    "# Observations Summary\n",
    " - Members have more trips than casual riders in the year 2021.\n",
    " - Average trip duraiton for casual riders is more than members on all days. It appears that members prefer bike share services more for work commute; casual riders may prefer for exercise, entertainment and fun.\n",
    " - Peak activity is found during evening hours for both members and casual riders. Also members have a spike in activity in morning 8 am, which shows that members use it for work commute.\n",
    " - Summer season has highest rides for both user types in months of june, july and august. The activity decreases in the winter season.\n",
    " - High activity is found on weekends for both users. Casual riders see a massive jump on weekends, whereas members use the services consistently throughout the week.\n",
    " - Classic bikes are more preferred by both user types. But docked type is not at all used by members."
   ]
  },
  {
   "cell_type": "markdown",
   "id": "f28ce30e",
   "metadata": {},
   "source": [
    "# Recommendations\n",
    "- Promote memberships on quarterly, monthly and weekly basis. But keep the annual memberships lower than twelve months cumulative. This will help convert casual riders to members.\n",
    "- Rewards and discounts on weekends (busy days) for members only.\n",
    "- Preferential access during rush hours i.e. evening times.\n",
    "- Promote memberships for casual riders on weekdays to encourage their memberships.\n",
    "- Offer discounted plans for families and friends of members to encourage taking memberships.\n",
    "- Marketing campaigns to showcase benefits of cycling.\n",
    "- Marketing campaigns to showcase discounted memberships for casual riders at stations.\n",
    "- Feedback from members and casual riders regarding their experience and what can be improved.\n"
   ]
  },
  {
   "cell_type": "code",
   "execution_count": null,
   "id": "4ae1a39d",
   "metadata": {},
   "outputs": [],
   "source": []
  }
 ],
 "metadata": {
  "kernelspec": {
   "display_name": "Python 3 (ipykernel)",
   "language": "python",
   "name": "python3"
  },
  "language_info": {
   "codemirror_mode": {
    "name": "ipython",
    "version": 3
   },
   "file_extension": ".py",
   "mimetype": "text/x-python",
   "name": "python",
   "nbconvert_exporter": "python",
   "pygments_lexer": "ipython3",
   "version": "3.9.12"
  }
 },
 "nbformat": 4,
 "nbformat_minor": 5
}
